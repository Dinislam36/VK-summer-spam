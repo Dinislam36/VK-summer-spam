{
  "cells": [
    {
      "cell_type": "code",
      "execution_count": 1,
      "id": "fa7866ca",
      "metadata": {
        "id": "fa7866ca"
      },
      "outputs": [],
      "source": [
        "import pandas as pd\n",
        "import numpy as np"
      ]
    },
    {
      "cell_type": "code",
      "execution_count": 2,
      "id": "ec05d966",
      "metadata": {
        "id": "ec05d966"
      },
      "outputs": [],
      "source": [
        "train = pd.read_csv('train_spam.csv')\n",
        "test = pd.read_csv('test_spam.csv')"
      ]
    },
    {
      "cell_type": "markdown",
      "id": "92d5fa15",
      "metadata": {
        "id": "92d5fa15"
      },
      "source": [
        "## Посмотрим на данные\n",
        "По сути, кроме текста ничего нет, так что надов весь анализ делать только по нему"
      ]
    },
    {
      "cell_type": "code",
      "execution_count": 3,
      "id": "e64272ce",
      "metadata": {
        "colab": {
          "base_uri": "https://localhost:8080/",
          "height": 423
        },
        "id": "e64272ce",
        "outputId": "413b72a1-2b1d-46fb-e8da-378c70ed94fe"
      },
      "outputs": [
        {
          "output_type": "execute_result",
          "data": {
            "text/plain": [
              "      text_type                                               text\n",
              "0           ham  make sure alex knows his birthday is over in f...\n",
              "1           ham  a resume for john lavorato thanks vince i will...\n",
              "2          spam  plzz visit my website moviesgodml to get all m...\n",
              "3          spam  urgent your mobile number has been awarded wit...\n",
              "4           ham  overview of hr associates analyst project per ...\n",
              "...         ...                                                ...\n",
              "16273      spam  if you are interested in binary options tradin...\n",
              "16274      spam  dirty pictureblyk on aircel thanks you for bei...\n",
              "16275       ham  or you could do this g on mon 1635465 sep 1635...\n",
              "16276       ham  insta reels par 80 गंद bhara pada hai 👀 kuch b...\n",
              "16277       ham  alex s paper comments 1 in the sentence betwee...\n",
              "\n",
              "[16278 rows x 2 columns]"
            ],
            "text/html": [
              "\n",
              "  <div id=\"df-55c86576-8c0e-4e5a-9e9e-cded983237e5\" class=\"colab-df-container\">\n",
              "    <div>\n",
              "<style scoped>\n",
              "    .dataframe tbody tr th:only-of-type {\n",
              "        vertical-align: middle;\n",
              "    }\n",
              "\n",
              "    .dataframe tbody tr th {\n",
              "        vertical-align: top;\n",
              "    }\n",
              "\n",
              "    .dataframe thead th {\n",
              "        text-align: right;\n",
              "    }\n",
              "</style>\n",
              "<table border=\"1\" class=\"dataframe\">\n",
              "  <thead>\n",
              "    <tr style=\"text-align: right;\">\n",
              "      <th></th>\n",
              "      <th>text_type</th>\n",
              "      <th>text</th>\n",
              "    </tr>\n",
              "  </thead>\n",
              "  <tbody>\n",
              "    <tr>\n",
              "      <th>0</th>\n",
              "      <td>ham</td>\n",
              "      <td>make sure alex knows his birthday is over in f...</td>\n",
              "    </tr>\n",
              "    <tr>\n",
              "      <th>1</th>\n",
              "      <td>ham</td>\n",
              "      <td>a resume for john lavorato thanks vince i will...</td>\n",
              "    </tr>\n",
              "    <tr>\n",
              "      <th>2</th>\n",
              "      <td>spam</td>\n",
              "      <td>plzz visit my website moviesgodml to get all m...</td>\n",
              "    </tr>\n",
              "    <tr>\n",
              "      <th>3</th>\n",
              "      <td>spam</td>\n",
              "      <td>urgent your mobile number has been awarded wit...</td>\n",
              "    </tr>\n",
              "    <tr>\n",
              "      <th>4</th>\n",
              "      <td>ham</td>\n",
              "      <td>overview of hr associates analyst project per ...</td>\n",
              "    </tr>\n",
              "    <tr>\n",
              "      <th>...</th>\n",
              "      <td>...</td>\n",
              "      <td>...</td>\n",
              "    </tr>\n",
              "    <tr>\n",
              "      <th>16273</th>\n",
              "      <td>spam</td>\n",
              "      <td>if you are interested in binary options tradin...</td>\n",
              "    </tr>\n",
              "    <tr>\n",
              "      <th>16274</th>\n",
              "      <td>spam</td>\n",
              "      <td>dirty pictureblyk on aircel thanks you for bei...</td>\n",
              "    </tr>\n",
              "    <tr>\n",
              "      <th>16275</th>\n",
              "      <td>ham</td>\n",
              "      <td>or you could do this g on mon 1635465 sep 1635...</td>\n",
              "    </tr>\n",
              "    <tr>\n",
              "      <th>16276</th>\n",
              "      <td>ham</td>\n",
              "      <td>insta reels par 80 गंद bhara pada hai 👀 kuch b...</td>\n",
              "    </tr>\n",
              "    <tr>\n",
              "      <th>16277</th>\n",
              "      <td>ham</td>\n",
              "      <td>alex s paper comments 1 in the sentence betwee...</td>\n",
              "    </tr>\n",
              "  </tbody>\n",
              "</table>\n",
              "<p>16278 rows × 2 columns</p>\n",
              "</div>\n",
              "    <div class=\"colab-df-buttons\">\n",
              "\n",
              "  <div class=\"colab-df-container\">\n",
              "    <button class=\"colab-df-convert\" onclick=\"convertToInteractive('df-55c86576-8c0e-4e5a-9e9e-cded983237e5')\"\n",
              "            title=\"Convert this dataframe to an interactive table.\"\n",
              "            style=\"display:none;\">\n",
              "\n",
              "  <svg xmlns=\"http://www.w3.org/2000/svg\" height=\"24px\" viewBox=\"0 -960 960 960\">\n",
              "    <path d=\"M120-120v-720h720v720H120Zm60-500h600v-160H180v160Zm220 220h160v-160H400v160Zm0 220h160v-160H400v160ZM180-400h160v-160H180v160Zm440 0h160v-160H620v160ZM180-180h160v-160H180v160Zm440 0h160v-160H620v160Z\"/>\n",
              "  </svg>\n",
              "    </button>\n",
              "\n",
              "  <style>\n",
              "    .colab-df-container {\n",
              "      display:flex;\n",
              "      gap: 12px;\n",
              "    }\n",
              "\n",
              "    .colab-df-convert {\n",
              "      background-color: #E8F0FE;\n",
              "      border: none;\n",
              "      border-radius: 50%;\n",
              "      cursor: pointer;\n",
              "      display: none;\n",
              "      fill: #1967D2;\n",
              "      height: 32px;\n",
              "      padding: 0 0 0 0;\n",
              "      width: 32px;\n",
              "    }\n",
              "\n",
              "    .colab-df-convert:hover {\n",
              "      background-color: #E2EBFA;\n",
              "      box-shadow: 0px 1px 2px rgba(60, 64, 67, 0.3), 0px 1px 3px 1px rgba(60, 64, 67, 0.15);\n",
              "      fill: #174EA6;\n",
              "    }\n",
              "\n",
              "    .colab-df-buttons div {\n",
              "      margin-bottom: 4px;\n",
              "    }\n",
              "\n",
              "    [theme=dark] .colab-df-convert {\n",
              "      background-color: #3B4455;\n",
              "      fill: #D2E3FC;\n",
              "    }\n",
              "\n",
              "    [theme=dark] .colab-df-convert:hover {\n",
              "      background-color: #434B5C;\n",
              "      box-shadow: 0px 1px 3px 1px rgba(0, 0, 0, 0.15);\n",
              "      filter: drop-shadow(0px 1px 2px rgba(0, 0, 0, 0.3));\n",
              "      fill: #FFFFFF;\n",
              "    }\n",
              "  </style>\n",
              "\n",
              "    <script>\n",
              "      const buttonEl =\n",
              "        document.querySelector('#df-55c86576-8c0e-4e5a-9e9e-cded983237e5 button.colab-df-convert');\n",
              "      buttonEl.style.display =\n",
              "        google.colab.kernel.accessAllowed ? 'block' : 'none';\n",
              "\n",
              "      async function convertToInteractive(key) {\n",
              "        const element = document.querySelector('#df-55c86576-8c0e-4e5a-9e9e-cded983237e5');\n",
              "        const dataTable =\n",
              "          await google.colab.kernel.invokeFunction('convertToInteractive',\n",
              "                                                    [key], {});\n",
              "        if (!dataTable) return;\n",
              "\n",
              "        const docLinkHtml = 'Like what you see? Visit the ' +\n",
              "          '<a target=\"_blank\" href=https://colab.research.google.com/notebooks/data_table.ipynb>data table notebook</a>'\n",
              "          + ' to learn more about interactive tables.';\n",
              "        element.innerHTML = '';\n",
              "        dataTable['output_type'] = 'display_data';\n",
              "        await google.colab.output.renderOutput(dataTable, element);\n",
              "        const docLink = document.createElement('div');\n",
              "        docLink.innerHTML = docLinkHtml;\n",
              "        element.appendChild(docLink);\n",
              "      }\n",
              "    </script>\n",
              "  </div>\n",
              "\n",
              "\n",
              "<div id=\"df-07193833-a379-4719-acd6-9d13a2045153\">\n",
              "  <button class=\"colab-df-quickchart\" onclick=\"quickchart('df-07193833-a379-4719-acd6-9d13a2045153')\"\n",
              "            title=\"Suggest charts\"\n",
              "            style=\"display:none;\">\n",
              "\n",
              "<svg xmlns=\"http://www.w3.org/2000/svg\" height=\"24px\"viewBox=\"0 0 24 24\"\n",
              "     width=\"24px\">\n",
              "    <g>\n",
              "        <path d=\"M19 3H5c-1.1 0-2 .9-2 2v14c0 1.1.9 2 2 2h14c1.1 0 2-.9 2-2V5c0-1.1-.9-2-2-2zM9 17H7v-7h2v7zm4 0h-2V7h2v10zm4 0h-2v-4h2v4z\"/>\n",
              "    </g>\n",
              "</svg>\n",
              "  </button>\n",
              "\n",
              "<style>\n",
              "  .colab-df-quickchart {\n",
              "      --bg-color: #E8F0FE;\n",
              "      --fill-color: #1967D2;\n",
              "      --hover-bg-color: #E2EBFA;\n",
              "      --hover-fill-color: #174EA6;\n",
              "      --disabled-fill-color: #AAA;\n",
              "      --disabled-bg-color: #DDD;\n",
              "  }\n",
              "\n",
              "  [theme=dark] .colab-df-quickchart {\n",
              "      --bg-color: #3B4455;\n",
              "      --fill-color: #D2E3FC;\n",
              "      --hover-bg-color: #434B5C;\n",
              "      --hover-fill-color: #FFFFFF;\n",
              "      --disabled-bg-color: #3B4455;\n",
              "      --disabled-fill-color: #666;\n",
              "  }\n",
              "\n",
              "  .colab-df-quickchart {\n",
              "    background-color: var(--bg-color);\n",
              "    border: none;\n",
              "    border-radius: 50%;\n",
              "    cursor: pointer;\n",
              "    display: none;\n",
              "    fill: var(--fill-color);\n",
              "    height: 32px;\n",
              "    padding: 0;\n",
              "    width: 32px;\n",
              "  }\n",
              "\n",
              "  .colab-df-quickchart:hover {\n",
              "    background-color: var(--hover-bg-color);\n",
              "    box-shadow: 0 1px 2px rgba(60, 64, 67, 0.3), 0 1px 3px 1px rgba(60, 64, 67, 0.15);\n",
              "    fill: var(--button-hover-fill-color);\n",
              "  }\n",
              "\n",
              "  .colab-df-quickchart-complete:disabled,\n",
              "  .colab-df-quickchart-complete:disabled:hover {\n",
              "    background-color: var(--disabled-bg-color);\n",
              "    fill: var(--disabled-fill-color);\n",
              "    box-shadow: none;\n",
              "  }\n",
              "\n",
              "  .colab-df-spinner {\n",
              "    border: 2px solid var(--fill-color);\n",
              "    border-color: transparent;\n",
              "    border-bottom-color: var(--fill-color);\n",
              "    animation:\n",
              "      spin 1s steps(1) infinite;\n",
              "  }\n",
              "\n",
              "  @keyframes spin {\n",
              "    0% {\n",
              "      border-color: transparent;\n",
              "      border-bottom-color: var(--fill-color);\n",
              "      border-left-color: var(--fill-color);\n",
              "    }\n",
              "    20% {\n",
              "      border-color: transparent;\n",
              "      border-left-color: var(--fill-color);\n",
              "      border-top-color: var(--fill-color);\n",
              "    }\n",
              "    30% {\n",
              "      border-color: transparent;\n",
              "      border-left-color: var(--fill-color);\n",
              "      border-top-color: var(--fill-color);\n",
              "      border-right-color: var(--fill-color);\n",
              "    }\n",
              "    40% {\n",
              "      border-color: transparent;\n",
              "      border-right-color: var(--fill-color);\n",
              "      border-top-color: var(--fill-color);\n",
              "    }\n",
              "    60% {\n",
              "      border-color: transparent;\n",
              "      border-right-color: var(--fill-color);\n",
              "    }\n",
              "    80% {\n",
              "      border-color: transparent;\n",
              "      border-right-color: var(--fill-color);\n",
              "      border-bottom-color: var(--fill-color);\n",
              "    }\n",
              "    90% {\n",
              "      border-color: transparent;\n",
              "      border-bottom-color: var(--fill-color);\n",
              "    }\n",
              "  }\n",
              "</style>\n",
              "\n",
              "  <script>\n",
              "    async function quickchart(key) {\n",
              "      const quickchartButtonEl =\n",
              "        document.querySelector('#' + key + ' button');\n",
              "      quickchartButtonEl.disabled = true;  // To prevent multiple clicks.\n",
              "      quickchartButtonEl.classList.add('colab-df-spinner');\n",
              "      try {\n",
              "        const charts = await google.colab.kernel.invokeFunction(\n",
              "            'suggestCharts', [key], {});\n",
              "      } catch (error) {\n",
              "        console.error('Error during call to suggestCharts:', error);\n",
              "      }\n",
              "      quickchartButtonEl.classList.remove('colab-df-spinner');\n",
              "      quickchartButtonEl.classList.add('colab-df-quickchart-complete');\n",
              "    }\n",
              "    (() => {\n",
              "      let quickchartButtonEl =\n",
              "        document.querySelector('#df-07193833-a379-4719-acd6-9d13a2045153 button');\n",
              "      quickchartButtonEl.style.display =\n",
              "        google.colab.kernel.accessAllowed ? 'block' : 'none';\n",
              "    })();\n",
              "  </script>\n",
              "</div>\n",
              "    </div>\n",
              "  </div>\n"
            ],
            "application/vnd.google.colaboratory.intrinsic+json": {
              "type": "dataframe",
              "variable_name": "train",
              "summary": "{\n  \"name\": \"train\",\n  \"rows\": 16278,\n  \"fields\": [\n    {\n      \"column\": \"text_type\",\n      \"properties\": {\n        \"dtype\": \"category\",\n        \"num_unique_values\": 2,\n        \"samples\": [\n          \"spam\",\n          \"ham\"\n        ],\n        \"semantic_type\": \"\",\n        \"description\": \"\"\n      }\n    },\n    {\n      \"column\": \"text\",\n      \"properties\": {\n        \"dtype\": \"string\",\n        \"num_unique_values\": 16267,\n        \"samples\": [\n          \"enron opportunities thanks vince we will follow up with this lsu graduate hope you are doing well regards lynn dunphy vince j kaminski 02 15 2000 08 53 am to lynn dunphy hou ect ect cc vince j kaminski hou ect ect subject enron opportunities lynn i am forwarding you the resume of a very bright and motivated young man who attended a lecture i gave recently at lsu i think we should consider him for an analyst position vinceforwarded by vince j kaminski hou ect on 02 15 2000 08 52 am richard c iles on 09 14 2000 11 14 56 am please respond to richard c iles to cc subject enron opportunities dr kaminski here is my resume and cover letter thanks richard iles enron cover and\",\n          \"biliana s resume geynille i understand you are in charge of recruiting at the uofh i am forwarding to you the resume of one of the students of the university of houston she is involved with the international organization called aiesec and i was most impressed by her organizational skills and professional attitude i used to work as a volunteer for this organization many years ago and i am still helping their local chapter as far as i know she signed up for an interview with enron vince kaminskiforwarded by vince j kaminski hou ect on 09 29 2000 02 13 pm biliana pehlivanova on 09 28 2000 06 02 20 pm to vkamins enron com cc subject biliana s resume mr kaminski thank you for referring me to your recru\"\n        ],\n        \"semantic_type\": \"\",\n        \"description\": \"\"\n      }\n    }\n  ]\n}"
            }
          },
          "metadata": {},
          "execution_count": 3
        }
      ],
      "source": [
        "train"
      ]
    },
    {
      "cell_type": "code",
      "execution_count": 4,
      "id": "d64a388d",
      "metadata": {
        "colab": {
          "base_uri": "https://localhost:8080/",
          "height": 423
        },
        "id": "d64a388d",
        "outputId": "789dd938-5b81-4202-b346-d4abbdf8e584"
      },
      "outputs": [
        {
          "output_type": "execute_result",
          "data": {
            "text/plain": [
              "                                                   text\n",
              "0     j jim whitehead ejw cse ucsc edu writes j you ...\n",
              "1     original message from bitbitch magnesium net p...\n",
              "2     java for managers vince durasoft who just taug...\n",
              "3                  there is a youtuber name saiman says\n",
              "4     underpriced issue with high return on equity t...\n",
              "...                                                 ...\n",
              "4065  husband to wifetum meri zindagi hoorwifeor kya...\n",
              "4066  baylor enron case study cindy yes i shall co a...\n",
              "4067                           boring as compared to tp\n",
              "4068  hellogorgeous hows u my fone was on charge lst...\n",
              "4069  energy conference mark we are really swamped a...\n",
              "\n",
              "[4070 rows x 1 columns]"
            ],
            "text/html": [
              "\n",
              "  <div id=\"df-c96c1822-4b8d-437e-9306-b334a709a2a2\" class=\"colab-df-container\">\n",
              "    <div>\n",
              "<style scoped>\n",
              "    .dataframe tbody tr th:only-of-type {\n",
              "        vertical-align: middle;\n",
              "    }\n",
              "\n",
              "    .dataframe tbody tr th {\n",
              "        vertical-align: top;\n",
              "    }\n",
              "\n",
              "    .dataframe thead th {\n",
              "        text-align: right;\n",
              "    }\n",
              "</style>\n",
              "<table border=\"1\" class=\"dataframe\">\n",
              "  <thead>\n",
              "    <tr style=\"text-align: right;\">\n",
              "      <th></th>\n",
              "      <th>text</th>\n",
              "    </tr>\n",
              "  </thead>\n",
              "  <tbody>\n",
              "    <tr>\n",
              "      <th>0</th>\n",
              "      <td>j jim whitehead ejw cse ucsc edu writes j you ...</td>\n",
              "    </tr>\n",
              "    <tr>\n",
              "      <th>1</th>\n",
              "      <td>original message from bitbitch magnesium net p...</td>\n",
              "    </tr>\n",
              "    <tr>\n",
              "      <th>2</th>\n",
              "      <td>java for managers vince durasoft who just taug...</td>\n",
              "    </tr>\n",
              "    <tr>\n",
              "      <th>3</th>\n",
              "      <td>there is a youtuber name saiman says</td>\n",
              "    </tr>\n",
              "    <tr>\n",
              "      <th>4</th>\n",
              "      <td>underpriced issue with high return on equity t...</td>\n",
              "    </tr>\n",
              "    <tr>\n",
              "      <th>...</th>\n",
              "      <td>...</td>\n",
              "    </tr>\n",
              "    <tr>\n",
              "      <th>4065</th>\n",
              "      <td>husband to wifetum meri zindagi hoorwifeor kya...</td>\n",
              "    </tr>\n",
              "    <tr>\n",
              "      <th>4066</th>\n",
              "      <td>baylor enron case study cindy yes i shall co a...</td>\n",
              "    </tr>\n",
              "    <tr>\n",
              "      <th>4067</th>\n",
              "      <td>boring as compared to tp</td>\n",
              "    </tr>\n",
              "    <tr>\n",
              "      <th>4068</th>\n",
              "      <td>hellogorgeous hows u my fone was on charge lst...</td>\n",
              "    </tr>\n",
              "    <tr>\n",
              "      <th>4069</th>\n",
              "      <td>energy conference mark we are really swamped a...</td>\n",
              "    </tr>\n",
              "  </tbody>\n",
              "</table>\n",
              "<p>4070 rows × 1 columns</p>\n",
              "</div>\n",
              "    <div class=\"colab-df-buttons\">\n",
              "\n",
              "  <div class=\"colab-df-container\">\n",
              "    <button class=\"colab-df-convert\" onclick=\"convertToInteractive('df-c96c1822-4b8d-437e-9306-b334a709a2a2')\"\n",
              "            title=\"Convert this dataframe to an interactive table.\"\n",
              "            style=\"display:none;\">\n",
              "\n",
              "  <svg xmlns=\"http://www.w3.org/2000/svg\" height=\"24px\" viewBox=\"0 -960 960 960\">\n",
              "    <path d=\"M120-120v-720h720v720H120Zm60-500h600v-160H180v160Zm220 220h160v-160H400v160Zm0 220h160v-160H400v160ZM180-400h160v-160H180v160Zm440 0h160v-160H620v160ZM180-180h160v-160H180v160Zm440 0h160v-160H620v160Z\"/>\n",
              "  </svg>\n",
              "    </button>\n",
              "\n",
              "  <style>\n",
              "    .colab-df-container {\n",
              "      display:flex;\n",
              "      gap: 12px;\n",
              "    }\n",
              "\n",
              "    .colab-df-convert {\n",
              "      background-color: #E8F0FE;\n",
              "      border: none;\n",
              "      border-radius: 50%;\n",
              "      cursor: pointer;\n",
              "      display: none;\n",
              "      fill: #1967D2;\n",
              "      height: 32px;\n",
              "      padding: 0 0 0 0;\n",
              "      width: 32px;\n",
              "    }\n",
              "\n",
              "    .colab-df-convert:hover {\n",
              "      background-color: #E2EBFA;\n",
              "      box-shadow: 0px 1px 2px rgba(60, 64, 67, 0.3), 0px 1px 3px 1px rgba(60, 64, 67, 0.15);\n",
              "      fill: #174EA6;\n",
              "    }\n",
              "\n",
              "    .colab-df-buttons div {\n",
              "      margin-bottom: 4px;\n",
              "    }\n",
              "\n",
              "    [theme=dark] .colab-df-convert {\n",
              "      background-color: #3B4455;\n",
              "      fill: #D2E3FC;\n",
              "    }\n",
              "\n",
              "    [theme=dark] .colab-df-convert:hover {\n",
              "      background-color: #434B5C;\n",
              "      box-shadow: 0px 1px 3px 1px rgba(0, 0, 0, 0.15);\n",
              "      filter: drop-shadow(0px 1px 2px rgba(0, 0, 0, 0.3));\n",
              "      fill: #FFFFFF;\n",
              "    }\n",
              "  </style>\n",
              "\n",
              "    <script>\n",
              "      const buttonEl =\n",
              "        document.querySelector('#df-c96c1822-4b8d-437e-9306-b334a709a2a2 button.colab-df-convert');\n",
              "      buttonEl.style.display =\n",
              "        google.colab.kernel.accessAllowed ? 'block' : 'none';\n",
              "\n",
              "      async function convertToInteractive(key) {\n",
              "        const element = document.querySelector('#df-c96c1822-4b8d-437e-9306-b334a709a2a2');\n",
              "        const dataTable =\n",
              "          await google.colab.kernel.invokeFunction('convertToInteractive',\n",
              "                                                    [key], {});\n",
              "        if (!dataTable) return;\n",
              "\n",
              "        const docLinkHtml = 'Like what you see? Visit the ' +\n",
              "          '<a target=\"_blank\" href=https://colab.research.google.com/notebooks/data_table.ipynb>data table notebook</a>'\n",
              "          + ' to learn more about interactive tables.';\n",
              "        element.innerHTML = '';\n",
              "        dataTable['output_type'] = 'display_data';\n",
              "        await google.colab.output.renderOutput(dataTable, element);\n",
              "        const docLink = document.createElement('div');\n",
              "        docLink.innerHTML = docLinkHtml;\n",
              "        element.appendChild(docLink);\n",
              "      }\n",
              "    </script>\n",
              "  </div>\n",
              "\n",
              "\n",
              "<div id=\"df-9db5bc6b-bc5f-4c23-b5fb-0541f827d131\">\n",
              "  <button class=\"colab-df-quickchart\" onclick=\"quickchart('df-9db5bc6b-bc5f-4c23-b5fb-0541f827d131')\"\n",
              "            title=\"Suggest charts\"\n",
              "            style=\"display:none;\">\n",
              "\n",
              "<svg xmlns=\"http://www.w3.org/2000/svg\" height=\"24px\"viewBox=\"0 0 24 24\"\n",
              "     width=\"24px\">\n",
              "    <g>\n",
              "        <path d=\"M19 3H5c-1.1 0-2 .9-2 2v14c0 1.1.9 2 2 2h14c1.1 0 2-.9 2-2V5c0-1.1-.9-2-2-2zM9 17H7v-7h2v7zm4 0h-2V7h2v10zm4 0h-2v-4h2v4z\"/>\n",
              "    </g>\n",
              "</svg>\n",
              "  </button>\n",
              "\n",
              "<style>\n",
              "  .colab-df-quickchart {\n",
              "      --bg-color: #E8F0FE;\n",
              "      --fill-color: #1967D2;\n",
              "      --hover-bg-color: #E2EBFA;\n",
              "      --hover-fill-color: #174EA6;\n",
              "      --disabled-fill-color: #AAA;\n",
              "      --disabled-bg-color: #DDD;\n",
              "  }\n",
              "\n",
              "  [theme=dark] .colab-df-quickchart {\n",
              "      --bg-color: #3B4455;\n",
              "      --fill-color: #D2E3FC;\n",
              "      --hover-bg-color: #434B5C;\n",
              "      --hover-fill-color: #FFFFFF;\n",
              "      --disabled-bg-color: #3B4455;\n",
              "      --disabled-fill-color: #666;\n",
              "  }\n",
              "\n",
              "  .colab-df-quickchart {\n",
              "    background-color: var(--bg-color);\n",
              "    border: none;\n",
              "    border-radius: 50%;\n",
              "    cursor: pointer;\n",
              "    display: none;\n",
              "    fill: var(--fill-color);\n",
              "    height: 32px;\n",
              "    padding: 0;\n",
              "    width: 32px;\n",
              "  }\n",
              "\n",
              "  .colab-df-quickchart:hover {\n",
              "    background-color: var(--hover-bg-color);\n",
              "    box-shadow: 0 1px 2px rgba(60, 64, 67, 0.3), 0 1px 3px 1px rgba(60, 64, 67, 0.15);\n",
              "    fill: var(--button-hover-fill-color);\n",
              "  }\n",
              "\n",
              "  .colab-df-quickchart-complete:disabled,\n",
              "  .colab-df-quickchart-complete:disabled:hover {\n",
              "    background-color: var(--disabled-bg-color);\n",
              "    fill: var(--disabled-fill-color);\n",
              "    box-shadow: none;\n",
              "  }\n",
              "\n",
              "  .colab-df-spinner {\n",
              "    border: 2px solid var(--fill-color);\n",
              "    border-color: transparent;\n",
              "    border-bottom-color: var(--fill-color);\n",
              "    animation:\n",
              "      spin 1s steps(1) infinite;\n",
              "  }\n",
              "\n",
              "  @keyframes spin {\n",
              "    0% {\n",
              "      border-color: transparent;\n",
              "      border-bottom-color: var(--fill-color);\n",
              "      border-left-color: var(--fill-color);\n",
              "    }\n",
              "    20% {\n",
              "      border-color: transparent;\n",
              "      border-left-color: var(--fill-color);\n",
              "      border-top-color: var(--fill-color);\n",
              "    }\n",
              "    30% {\n",
              "      border-color: transparent;\n",
              "      border-left-color: var(--fill-color);\n",
              "      border-top-color: var(--fill-color);\n",
              "      border-right-color: var(--fill-color);\n",
              "    }\n",
              "    40% {\n",
              "      border-color: transparent;\n",
              "      border-right-color: var(--fill-color);\n",
              "      border-top-color: var(--fill-color);\n",
              "    }\n",
              "    60% {\n",
              "      border-color: transparent;\n",
              "      border-right-color: var(--fill-color);\n",
              "    }\n",
              "    80% {\n",
              "      border-color: transparent;\n",
              "      border-right-color: var(--fill-color);\n",
              "      border-bottom-color: var(--fill-color);\n",
              "    }\n",
              "    90% {\n",
              "      border-color: transparent;\n",
              "      border-bottom-color: var(--fill-color);\n",
              "    }\n",
              "  }\n",
              "</style>\n",
              "\n",
              "  <script>\n",
              "    async function quickchart(key) {\n",
              "      const quickchartButtonEl =\n",
              "        document.querySelector('#' + key + ' button');\n",
              "      quickchartButtonEl.disabled = true;  // To prevent multiple clicks.\n",
              "      quickchartButtonEl.classList.add('colab-df-spinner');\n",
              "      try {\n",
              "        const charts = await google.colab.kernel.invokeFunction(\n",
              "            'suggestCharts', [key], {});\n",
              "      } catch (error) {\n",
              "        console.error('Error during call to suggestCharts:', error);\n",
              "      }\n",
              "      quickchartButtonEl.classList.remove('colab-df-spinner');\n",
              "      quickchartButtonEl.classList.add('colab-df-quickchart-complete');\n",
              "    }\n",
              "    (() => {\n",
              "      let quickchartButtonEl =\n",
              "        document.querySelector('#df-9db5bc6b-bc5f-4c23-b5fb-0541f827d131 button');\n",
              "      quickchartButtonEl.style.display =\n",
              "        google.colab.kernel.accessAllowed ? 'block' : 'none';\n",
              "    })();\n",
              "  </script>\n",
              "</div>\n",
              "    </div>\n",
              "  </div>\n"
            ],
            "application/vnd.google.colaboratory.intrinsic+json": {
              "type": "dataframe",
              "variable_name": "test",
              "summary": "{\n  \"name\": \"test\",\n  \"rows\": 4070,\n  \"fields\": [\n    {\n      \"column\": \"text\",\n      \"properties\": {\n        \"dtype\": \"string\",\n        \"num_unique_values\": 4070,\n        \"samples\": [\n          \"spin lucky wheel earn coins! scratch the card earn coins! complete math earn coins! watch video to earn coins! use my invite code earn coins! my code919163 install now\",\n          \"is ur paper today in e morn or aft\",\n          \"the only one person i can invest my last 3000 and i will be comfortable with maximum profit within days that person is crogers fxt hes the best binary option manger ever contact him via whatsapp \\ud83d\\udc47\\ud83d\\udc47\\ud83d\\udc47\\ud83d\\udc47\\ud83d\\udc47\\ud83d\\udc47 1 304 5139240\"\n        ],\n        \"semantic_type\": \"\",\n        \"description\": \"\"\n      }\n    }\n  ]\n}"
            }
          },
          "metadata": {},
          "execution_count": 4
        }
      ],
      "source": [
        "test"
      ]
    },
    {
      "cell_type": "markdown",
      "id": "abe628a1",
      "metadata": {
        "id": "abe628a1"
      },
      "source": [
        "### Посмотриим на распределение длины мейла относительно всего датасета и таргета\n",
        "Видно что распределения отличаются. В длинна сообщений в спаме в среднем выше чем в не спаме"
      ]
    },
    {
      "cell_type": "code",
      "execution_count": 5,
      "id": "e7453d97",
      "metadata": {
        "id": "e7453d97"
      },
      "outputs": [],
      "source": [
        "train['len'] = train['text'].apply(len)"
      ]
    },
    {
      "cell_type": "code",
      "execution_count": 6,
      "id": "a62e09da",
      "metadata": {
        "colab": {
          "base_uri": "https://localhost:8080/",
          "height": 448
        },
        "id": "a62e09da",
        "outputId": "1fb0bd94-1814-43f8-f193-d6247822a54c"
      },
      "outputs": [
        {
          "output_type": "execute_result",
          "data": {
            "text/plain": [
              "<Axes: ylabel='Frequency'>"
            ]
          },
          "metadata": {},
          "execution_count": 6
        },
        {
          "output_type": "display_data",
          "data": {
            "text/plain": [
              "<Figure size 640x480 with 1 Axes>"
            ],
            "image/png": "[encoded data removed]"
          },
          "metadata": {}
        }
      ],
      "source": [
        "train['len'].plot(kind='hist')"
      ]
    },
    {
      "cell_type": "code",
      "execution_count": 7,
      "id": "6cab052f",
      "metadata": {
        "colab": {
          "base_uri": "https://localhost:8080/",
          "height": 448
        },
        "id": "6cab052f",
        "outputId": "685cbf64-adc0-47e3-c6a9-8cd036902981"
      },
      "outputs": [
        {
          "output_type": "execute_result",
          "data": {
            "text/plain": [
              "<Axes: ylabel='Frequency'>"
            ]
          },
          "metadata": {},
          "execution_count": 7
        },
        {
          "output_type": "display_data",
          "data": {
            "text/plain": [
              "<Figure size 640x480 with 1 Axes>"
            ],
            "image/png": "[encoded data removed]"
          },
          "metadata": {}
        }
      ],
      "source": [
        "train[train['text_type'] == 'spam']['len'].plot(kind='hist')"
      ]
    },
    {
      "cell_type": "code",
      "execution_count": 8,
      "id": "00712cc6",
      "metadata": {
        "colab": {
          "base_uri": "https://localhost:8080/",
          "height": 448
        },
        "id": "00712cc6",
        "outputId": "64745959-01dd-4ea2-cc2a-f87686de1466"
      },
      "outputs": [
        {
          "output_type": "execute_result",
          "data": {
            "text/plain": [
              "<Axes: ylabel='Frequency'>"
            ]
          },
          "metadata": {},
          "execution_count": 8
        },
        {
          "output_type": "display_data",
          "data": {
            "text/plain": [
              "<Figure size 640x480 with 1 Axes>"
            ],
            "image/png": "[encoded data removed]"
          },
          "metadata": {}
        }
      ],
      "source": [
        "train[train['text_type'] == 'ham']['len'].plot(kind='hist')"
      ]
    },
    {
      "cell_type": "code",
      "execution_count": 9,
      "id": "e3355bfa",
      "metadata": {
        "colab": {
          "base_uri": "https://localhost:8080/"
        },
        "id": "e3355bfa",
        "outputId": "d3d5f48e-9575-4ffb-d330-1a74d2a251d4"
      },
      "outputs": [
        {
          "output_type": "stream",
          "name": "stdout",
          "text": [
            "Mean length : 310.3835237744195\n",
            "Median length : 157.0\n",
            "\n",
            "Mean length on spam: 301.35724682886257\n",
            "Median length on spam: 195.0\n",
            "\n",
            "Mean length on ham: 314.168279710524\n",
            "Median length on ham: 141.0\n"
          ]
        }
      ],
      "source": [
        "print(f\"Mean length : {train['len'].mean()}\")\n",
        "print(f\"Median length : {train['len'].median()}\")\n",
        "print()\n",
        "print(f\"Mean length on spam: {train[train['text_type'] == 'spam']['len'].mean()}\")\n",
        "print(f\"Median length on spam: {train[train['text_type'] == 'spam']['len'].median()}\")\n",
        "print()\n",
        "print(f\"Mean length on ham: {train[train['text_type'] == 'ham']['len'].mean()}\")\n",
        "print(f\"Median length on ham: {train[train['text_type'] == 'ham']['len'].median()}\")"
      ]
    },
    {
      "cell_type": "markdown",
      "id": "b9d6d2db",
      "metadata": {
        "id": "b9d6d2db"
      },
      "source": [
        "### Посчитаем количество эмодзи в тексте и сравним.\n",
        "Видно, что в спаме гораздо чаще попадаются эмодзи. При очисти данных надо учесть это и не удалять эмодзи."
      ]
    },
    {
      "cell_type": "code",
      "source": [
        "!pip install emoji==1.7"
      ],
      "metadata": {
        "colab": {
          "base_uri": "https://localhost:8080/"
        },
        "id": "HzxdufLv95NX",
        "outputId": "8916b16a-7dd2-465a-d51b-0575c333fcf7"
      },
      "id": "HzxdufLv95NX",
      "execution_count": 10,
      "outputs": [
        {
          "output_type": "stream",
          "name": "stdout",
          "text": [
            "Requirement already satisfied: emoji==1.7 in /usr/local/lib/python3.10/dist-packages (1.7.0)\n"
          ]
        }
      ]
    },
    {
      "cell_type": "code",
      "execution_count": 11,
      "id": "950f78a2",
      "metadata": {
        "id": "950f78a2"
      },
      "outputs": [],
      "source": [
        "# !pip install emoji==1.7\n",
        "from emoji import UNICODE_EMOJI"
      ]
    },
    {
      "cell_type": "code",
      "execution_count": 12,
      "id": "f8add564",
      "metadata": {
        "id": "f8add564"
      },
      "outputs": [],
      "source": [
        "def count_emoji(string):\n",
        "    n_emojis = 0\n",
        "    for ch in string:\n",
        "        n_emojis += ch in UNICODE_EMOJI['en']\n",
        "    return n_emojis"
      ]
    },
    {
      "cell_type": "code",
      "execution_count": 13,
      "id": "81e49f86",
      "metadata": {
        "id": "81e49f86"
      },
      "outputs": [],
      "source": [
        "train['n_emojis'] = train['text'].apply(count_emoji)"
      ]
    },
    {
      "cell_type": "code",
      "execution_count": 14,
      "id": "7ece033e",
      "metadata": {
        "colab": {
          "base_uri": "https://localhost:8080/"
        },
        "id": "7ece033e",
        "outputId": "214aae84-e180-4f89-9608-58b5edfe61ce"
      },
      "outputs": [
        {
          "output_type": "execute_result",
          "data": {
            "text/plain": [
              "0.007062516348417473"
            ]
          },
          "metadata": {},
          "execution_count": 14
        }
      ],
      "source": [
        "# 0.7% из не-спама содержат эмодзи\n",
        "train[train['text_type'] == 'ham']['n_emojis'].value_counts()[1:].sum() / len(train[train['text_type'] == 'ham'])"
      ]
    },
    {
      "cell_type": "code",
      "execution_count": 15,
      "id": "40a9140f",
      "metadata": {
        "colab": {
          "base_uri": "https://localhost:8080/"
        },
        "id": "40a9140f",
        "outputId": "0d23acb6-c928-48a7-ea4a-297499b435fe"
      },
      "outputs": [
        {
          "output_type": "execute_result",
          "data": {
            "text/plain": [
              "0.27510917030567683"
            ]
          },
          "metadata": {},
          "execution_count": 15
        }
      ],
      "source": [
        "# 27.5% спама содержат смайлы\n",
        "train[train['text_type'] == 'spam']['n_emojis'].value_counts()[1:].sum() / len(train[train['text_type'] == 'spam'])"
      ]
    },
    {
      "cell_type": "markdown",
      "id": "5ee0623f",
      "metadata": {
        "id": "5ee0623f"
      },
      "source": [
        "### Препроцессим данные.\n",
        "Пайплайн: tokenize -> lowercase -> remove punctuation -> remove stop words -> lemmatization"
      ]
    },
    {
      "cell_type": "code",
      "execution_count": 16,
      "id": "b4282192",
      "metadata": {
        "colab": {
          "base_uri": "https://localhost:8080/"
        },
        "id": "b4282192",
        "outputId": "830e5612-90a2-4d82-be43-b13bc7079839"
      },
      "outputs": [
        {
          "output_type": "stream",
          "name": "stderr",
          "text": [
            "[nltk_data] Downloading package wordnet to /root/nltk_data...\n",
            "[nltk_data]   Package wordnet is already up-to-date!\n",
            "[nltk_data] Downloading package omw-1.4 to /root/nltk_data...\n",
            "[nltk_data]   Package omw-1.4 is already up-to-date!\n",
            "[nltk_data] Downloading package punkt to /root/nltk_data...\n",
            "[nltk_data]   Package punkt is already up-to-date!\n",
            "[nltk_data] Downloading package stopwords to /root/nltk_data...\n",
            "[nltk_data]   Package stopwords is already up-to-date!\n"
          ]
        },
        {
          "output_type": "execute_result",
          "data": {
            "text/plain": [
              "True"
            ]
          },
          "metadata": {},
          "execution_count": 16
        }
      ],
      "source": [
        "import nltk\n",
        "nltk.download('wordnet')\n",
        "nltk.download('omw-1.4')\n",
        "nltk.download('punkt')\n",
        "nltk.download('stopwords')"
      ]
    },
    {
      "cell_type": "code",
      "execution_count": 17,
      "id": "4f73f604",
      "metadata": {
        "id": "4f73f604"
      },
      "outputs": [],
      "source": [
        "import nltk\n",
        "import string\n",
        "\n",
        "def preprocess_text(sent):\n",
        "    # Tokenize sentence\n",
        "    tokens = nltk.word_tokenize(sent)\n",
        "    # Lowercase\n",
        "    tokens = [token.lower().strip() for token in tokens]\n",
        "    # Remove punctuation\n",
        "    tokens = [token for token in tokens if token not in string.punctuation]\n",
        "    # Rrmove stopwords\n",
        "    stopwords = nltk.corpus.stopwords.words(\"english\")\n",
        "    tokens = [token for token in tokens if token not in stopwords]\n",
        "    # Create lemmatizer\n",
        "    lemmatizer = nltk.stem.WordNetLemmatizer()\n",
        "    # lemmatize each token\n",
        "    tokens = [lemmatizer.lemmatize(token) for token in tokens]\n",
        "    # Join tokens to text\n",
        "    tokens = ' '.join(tokens)\n",
        "    return tokens"
      ]
    },
    {
      "cell_type": "code",
      "execution_count": 18,
      "id": "27801d96",
      "metadata": {
        "id": "27801d96"
      },
      "outputs": [],
      "source": [
        "train['preprocessed'] = train['text'].apply(preprocess_text)"
      ]
    },
    {
      "cell_type": "code",
      "execution_count": 19,
      "id": "8e5dde36",
      "metadata": {
        "colab": {
          "base_uri": "https://localhost:8080/",
          "height": 597
        },
        "id": "8e5dde36",
        "outputId": "4e2bb814-b024-4473-9c61-552bc3d6356d"
      },
      "outputs": [
        {
          "output_type": "execute_result",
          "data": {
            "text/plain": [
              "      text_type                                               text  len  \\\n",
              "0           ham  make sure alex knows his birthday is over in f...   86   \n",
              "1           ham  a resume for john lavorato thanks vince i will...  520   \n",
              "2          spam  plzz visit my website moviesgodml to get all m...  126   \n",
              "3          spam  urgent your mobile number has been awarded wit...  139   \n",
              "4           ham  overview of hr associates analyst project per ...  733   \n",
              "...         ...                                                ...  ...   \n",
              "16273      spam  if you are interested in binary options tradin...  114   \n",
              "16274      spam  dirty pictureblyk on aircel thanks you for bei...  454   \n",
              "16275       ham  or you could do this g on mon 1635465 sep 1635...  799   \n",
              "16276       ham  insta reels par 80 गंद bhara pada hai 👀 kuch b...  102   \n",
              "16277       ham  alex s paper comments 1 in the sentence betwee...  745   \n",
              "\n",
              "       n_emojis                                       preprocessed  \n",
              "0             0  make sure alex know birthday fifteen minute fa...  \n",
              "1             0  resume john lavorato thanks vince get moving r...  \n",
              "2             5  plzz visit website moviesgodml get movie free ...  \n",
              "3             0  urgent mobile number awarded £2000 prize guara...  \n",
              "4             0  overview hr associate analyst project per davi...  \n",
              "...         ...                                                ...  \n",
              "16273         0  interested binary option trading may continue ...  \n",
              "16274         0  dirty pictureblyk aircel thanks valued member ...  \n",
              "16275         0  could g mon 1635465 sep 1635465 david rees wro...  \n",
              "16276         2  insta reel par 80 गंद bhara pada hai 👀 kuch bh...  \n",
              "16277         0  alex paper comment 1 sentence eqn 3 eqn 4 thin...  \n",
              "\n",
              "[16278 rows x 5 columns]"
            ],
            "text/html": [
              "\n",
              "  <div id=\"df-a5d53938-98a6-4e4b-b0d4-e3b1706db733\" class=\"colab-df-container\">\n",
              "    <div>\n",
              "<style scoped>\n",
              "    .dataframe tbody tr th:only-of-type {\n",
              "        vertical-align: middle;\n",
              "    }\n",
              "\n",
              "    .dataframe tbody tr th {\n",
              "        vertical-align: top;\n",
              "    }\n",
              "\n",
              "    .dataframe thead th {\n",
              "        text-align: right;\n",
              "    }\n",
              "</style>\n",
              "<table border=\"1\" class=\"dataframe\">\n",
              "  <thead>\n",
              "    <tr style=\"text-align: right;\">\n",
              "      <th></th>\n",
              "      <th>text_type</th>\n",
              "      <th>text</th>\n",
              "      <th>len</th>\n",
              "      <th>n_emojis</th>\n",
              "      <th>preprocessed</th>\n",
              "    </tr>\n",
              "  </thead>\n",
              "  <tbody>\n",
              "    <tr>\n",
              "      <th>0</th>\n",
              "      <td>ham</td>\n",
              "      <td>make sure alex knows his birthday is over in f...</td>\n",
              "      <td>86</td>\n",
              "      <td>0</td>\n",
              "      <td>make sure alex know birthday fifteen minute fa...</td>\n",
              "    </tr>\n",
              "    <tr>\n",
              "      <th>1</th>\n",
              "      <td>ham</td>\n",
              "      <td>a resume for john lavorato thanks vince i will...</td>\n",
              "      <td>520</td>\n",
              "      <td>0</td>\n",
              "      <td>resume john lavorato thanks vince get moving r...</td>\n",
              "    </tr>\n",
              "    <tr>\n",
              "      <th>2</th>\n",
              "      <td>spam</td>\n",
              "      <td>plzz visit my website moviesgodml to get all m...</td>\n",
              "      <td>126</td>\n",
              "      <td>5</td>\n",
              "      <td>plzz visit website moviesgodml get movie free ...</td>\n",
              "    </tr>\n",
              "    <tr>\n",
              "      <th>3</th>\n",
              "      <td>spam</td>\n",
              "      <td>urgent your mobile number has been awarded wit...</td>\n",
              "      <td>139</td>\n",
              "      <td>0</td>\n",
              "      <td>urgent mobile number awarded £2000 prize guara...</td>\n",
              "    </tr>\n",
              "    <tr>\n",
              "      <th>4</th>\n",
              "      <td>ham</td>\n",
              "      <td>overview of hr associates analyst project per ...</td>\n",
              "      <td>733</td>\n",
              "      <td>0</td>\n",
              "      <td>overview hr associate analyst project per davi...</td>\n",
              "    </tr>\n",
              "    <tr>\n",
              "      <th>...</th>\n",
              "      <td>...</td>\n",
              "      <td>...</td>\n",
              "      <td>...</td>\n",
              "      <td>...</td>\n",
              "      <td>...</td>\n",
              "    </tr>\n",
              "    <tr>\n",
              "      <th>16273</th>\n",
              "      <td>spam</td>\n",
              "      <td>if you are interested in binary options tradin...</td>\n",
              "      <td>114</td>\n",
              "      <td>0</td>\n",
              "      <td>interested binary option trading may continue ...</td>\n",
              "    </tr>\n",
              "    <tr>\n",
              "      <th>16274</th>\n",
              "      <td>spam</td>\n",
              "      <td>dirty pictureblyk on aircel thanks you for bei...</td>\n",
              "      <td>454</td>\n",
              "      <td>0</td>\n",
              "      <td>dirty pictureblyk aircel thanks valued member ...</td>\n",
              "    </tr>\n",
              "    <tr>\n",
              "      <th>16275</th>\n",
              "      <td>ham</td>\n",
              "      <td>or you could do this g on mon 1635465 sep 1635...</td>\n",
              "      <td>799</td>\n",
              "      <td>0</td>\n",
              "      <td>could g mon 1635465 sep 1635465 david rees wro...</td>\n",
              "    </tr>\n",
              "    <tr>\n",
              "      <th>16276</th>\n",
              "      <td>ham</td>\n",
              "      <td>insta reels par 80 गंद bhara pada hai 👀 kuch b...</td>\n",
              "      <td>102</td>\n",
              "      <td>2</td>\n",
              "      <td>insta reel par 80 गंद bhara pada hai 👀 kuch bh...</td>\n",
              "    </tr>\n",
              "    <tr>\n",
              "      <th>16277</th>\n",
              "      <td>ham</td>\n",
              "      <td>alex s paper comments 1 in the sentence betwee...</td>\n",
              "      <td>745</td>\n",
              "      <td>0</td>\n",
              "      <td>alex paper comment 1 sentence eqn 3 eqn 4 thin...</td>\n",
              "    </tr>\n",
              "  </tbody>\n",
              "</table>\n",
              "<p>16278 rows × 5 columns</p>\n",
              "</div>\n",
              "    <div class=\"colab-df-buttons\">\n",
              "\n",
              "  <div class=\"colab-df-container\">\n",
              "    <button class=\"colab-df-convert\" onclick=\"convertToInteractive('df-a5d53938-98a6-4e4b-b0d4-e3b1706db733')\"\n",
              "            title=\"Convert this dataframe to an interactive table.\"\n",
              "            style=\"display:none;\">\n",
              "\n",
              "  <svg xmlns=\"http://www.w3.org/2000/svg\" height=\"24px\" viewBox=\"0 -960 960 960\">\n",
              "    <path d=\"M120-120v-720h720v720H120Zm60-500h600v-160H180v160Zm220 220h160v-160H400v160Zm0 220h160v-160H400v160ZM180-400h160v-160H180v160Zm440 0h160v-160H620v160ZM180-180h160v-160H180v160Zm440 0h160v-160H620v160Z\"/>\n",
              "  </svg>\n",
              "    </button>\n",
              "\n",
              "  <style>\n",
              "    .colab-df-container {\n",
              "      display:flex;\n",
              "      gap: 12px;\n",
              "    }\n",
              "\n",
              "    .colab-df-convert {\n",
              "      background-color: #E8F0FE;\n",
              "      border: none;\n",
              "      border-radius: 50%;\n",
              "      cursor: pointer;\n",
              "      display: none;\n",
              "      fill: #1967D2;\n",
              "      height: 32px;\n",
              "      padding: 0 0 0 0;\n",
              "      width: 32px;\n",
              "    }\n",
              "\n",
              "    .colab-df-convert:hover {\n",
              "      background-color: #E2EBFA;\n",
              "      box-shadow: 0px 1px 2px rgba(60, 64, 67, 0.3), 0px 1px 3px 1px rgba(60, 64, 67, 0.15);\n",
              "      fill: #174EA6;\n",
              "    }\n",
              "\n",
              "    .colab-df-buttons div {\n",
              "      margin-bottom: 4px;\n",
              "    }\n",
              "\n",
              "    [theme=dark] .colab-df-convert {\n",
              "      background-color: #3B4455;\n",
              "      fill: #D2E3FC;\n",
              "    }\n",
              "\n",
              "    [theme=dark] .colab-df-convert:hover {\n",
              "      background-color: #434B5C;\n",
              "      box-shadow: 0px 1px 3px 1px rgba(0, 0, 0, 0.15);\n",
              "      filter: drop-shadow(0px 1px 2px rgba(0, 0, 0, 0.3));\n",
              "      fill: #FFFFFF;\n",
              "    }\n",
              "  </style>\n",
              "\n",
              "    <script>\n",
              "      const buttonEl =\n",
              "        document.querySelector('#df-a5d53938-98a6-4e4b-b0d4-e3b1706db733 button.colab-df-convert');\n",
              "      buttonEl.style.display =\n",
              "        google.colab.kernel.accessAllowed ? 'block' : 'none';\n",
              "\n",
              "      async function convertToInteractive(key) {\n",
              "        const element = document.querySelector('#df-a5d53938-98a6-4e4b-b0d4-e3b1706db733');\n",
              "        const dataTable =\n",
              "          await google.colab.kernel.invokeFunction('convertToInteractive',\n",
              "                                                    [key], {});\n",
              "        if (!dataTable) return;\n",
              "\n",
              "        const docLinkHtml = 'Like what you see? Visit the ' +\n",
              "          '<a target=\"_blank\" href=https://colab.research.google.com/notebooks/data_table.ipynb>data table notebook</a>'\n",
              "          + ' to learn more about interactive tables.';\n",
              "        element.innerHTML = '';\n",
              "        dataTable['output_type'] = 'display_data';\n",
              "        await google.colab.output.renderOutput(dataTable, element);\n",
              "        const docLink = document.createElement('div');\n",
              "        docLink.innerHTML = docLinkHtml;\n",
              "        element.appendChild(docLink);\n",
              "      }\n",
              "    </script>\n",
              "  </div>\n",
              "\n",
              "\n",
              "<div id=\"df-33ec3807-2017-48e8-a6d6-9998f5dd0be4\">\n",
              "  <button class=\"colab-df-quickchart\" onclick=\"quickchart('df-33ec3807-2017-48e8-a6d6-9998f5dd0be4')\"\n",
              "            title=\"Suggest charts\"\n",
              "            style=\"display:none;\">\n",
              "\n",
              "<svg xmlns=\"http://www.w3.org/2000/svg\" height=\"24px\"viewBox=\"0 0 24 24\"\n",
              "     width=\"24px\">\n",
              "    <g>\n",
              "        <path d=\"M19 3H5c-1.1 0-2 .9-2 2v14c0 1.1.9 2 2 2h14c1.1 0 2-.9 2-2V5c0-1.1-.9-2-2-2zM9 17H7v-7h2v7zm4 0h-2V7h2v10zm4 0h-2v-4h2v4z\"/>\n",
              "    </g>\n",
              "</svg>\n",
              "  </button>\n",
              "\n",
              "<style>\n",
              "  .colab-df-quickchart {\n",
              "      --bg-color: #E8F0FE;\n",
              "      --fill-color: #1967D2;\n",
              "      --hover-bg-color: #E2EBFA;\n",
              "      --hover-fill-color: #174EA6;\n",
              "      --disabled-fill-color: #AAA;\n",
              "      --disabled-bg-color: #DDD;\n",
              "  }\n",
              "\n",
              "  [theme=dark] .colab-df-quickchart {\n",
              "      --bg-color: #3B4455;\n",
              "      --fill-color: #D2E3FC;\n",
              "      --hover-bg-color: #434B5C;\n",
              "      --hover-fill-color: #FFFFFF;\n",
              "      --disabled-bg-color: #3B4455;\n",
              "      --disabled-fill-color: #666;\n",
              "  }\n",
              "\n",
              "  .colab-df-quickchart {\n",
              "    background-color: var(--bg-color);\n",
              "    border: none;\n",
              "    border-radius: 50%;\n",
              "    cursor: pointer;\n",
              "    display: none;\n",
              "    fill: var(--fill-color);\n",
              "    height: 32px;\n",
              "    padding: 0;\n",
              "    width: 32px;\n",
              "  }\n",
              "\n",
              "  .colab-df-quickchart:hover {\n",
              "    background-color: var(--hover-bg-color);\n",
              "    box-shadow: 0 1px 2px rgba(60, 64, 67, 0.3), 0 1px 3px 1px rgba(60, 64, 67, 0.15);\n",
              "    fill: var(--button-hover-fill-color);\n",
              "  }\n",
              "\n",
              "  .colab-df-quickchart-complete:disabled,\n",
              "  .colab-df-quickchart-complete:disabled:hover {\n",
              "    background-color: var(--disabled-bg-color);\n",
              "    fill: var(--disabled-fill-color);\n",
              "    box-shadow: none;\n",
              "  }\n",
              "\n",
              "  .colab-df-spinner {\n",
              "    border: 2px solid var(--fill-color);\n",
              "    border-color: transparent;\n",
              "    border-bottom-color: var(--fill-color);\n",
              "    animation:\n",
              "      spin 1s steps(1) infinite;\n",
              "  }\n",
              "\n",
              "  @keyframes spin {\n",
              "    0% {\n",
              "      border-color: transparent;\n",
              "      border-bottom-color: var(--fill-color);\n",
              "      border-left-color: var(--fill-color);\n",
              "    }\n",
              "    20% {\n",
              "      border-color: transparent;\n",
              "      border-left-color: var(--fill-color);\n",
              "      border-top-color: var(--fill-color);\n",
              "    }\n",
              "    30% {\n",
              "      border-color: transparent;\n",
              "      border-left-color: var(--fill-color);\n",
              "      border-top-color: var(--fill-color);\n",
              "      border-right-color: var(--fill-color);\n",
              "    }\n",
              "    40% {\n",
              "      border-color: transparent;\n",
              "      border-right-color: var(--fill-color);\n",
              "      border-top-color: var(--fill-color);\n",
              "    }\n",
              "    60% {\n",
              "      border-color: transparent;\n",
              "      border-right-color: var(--fill-color);\n",
              "    }\n",
              "    80% {\n",
              "      border-color: transparent;\n",
              "      border-right-color: var(--fill-color);\n",
              "      border-bottom-color: var(--fill-color);\n",
              "    }\n",
              "    90% {\n",
              "      border-color: transparent;\n",
              "      border-bottom-color: var(--fill-color);\n",
              "    }\n",
              "  }\n",
              "</style>\n",
              "\n",
              "  <script>\n",
              "    async function quickchart(key) {\n",
              "      const quickchartButtonEl =\n",
              "        document.querySelector('#' + key + ' button');\n",
              "      quickchartButtonEl.disabled = true;  // To prevent multiple clicks.\n",
              "      quickchartButtonEl.classList.add('colab-df-spinner');\n",
              "      try {\n",
              "        const charts = await google.colab.kernel.invokeFunction(\n",
              "            'suggestCharts', [key], {});\n",
              "      } catch (error) {\n",
              "        console.error('Error during call to suggestCharts:', error);\n",
              "      }\n",
              "      quickchartButtonEl.classList.remove('colab-df-spinner');\n",
              "      quickchartButtonEl.classList.add('colab-df-quickchart-complete');\n",
              "    }\n",
              "    (() => {\n",
              "      let quickchartButtonEl =\n",
              "        document.querySelector('#df-33ec3807-2017-48e8-a6d6-9998f5dd0be4 button');\n",
              "      quickchartButtonEl.style.display =\n",
              "        google.colab.kernel.accessAllowed ? 'block' : 'none';\n",
              "    })();\n",
              "  </script>\n",
              "</div>\n",
              "    </div>\n",
              "  </div>\n"
            ],
            "application/vnd.google.colaboratory.intrinsic+json": {
              "type": "dataframe",
              "variable_name": "train",
              "summary": "{\n  \"name\": \"train\",\n  \"rows\": 16278,\n  \"fields\": [\n    {\n      \"column\": \"text_type\",\n      \"properties\": {\n        \"dtype\": \"category\",\n        \"num_unique_values\": 2,\n        \"samples\": [\n          \"spam\",\n          \"ham\"\n        ],\n        \"semantic_type\": \"\",\n        \"description\": \"\"\n      }\n    },\n    {\n      \"column\": \"text\",\n      \"properties\": {\n        \"dtype\": \"string\",\n        \"num_unique_values\": 16267,\n        \"samples\": [\n          \"enron opportunities thanks vince we will follow up with this lsu graduate hope you are doing well regards lynn dunphy vince j kaminski 02 15 2000 08 53 am to lynn dunphy hou ect ect cc vince j kaminski hou ect ect subject enron opportunities lynn i am forwarding you the resume of a very bright and motivated young man who attended a lecture i gave recently at lsu i think we should consider him for an analyst position vinceforwarded by vince j kaminski hou ect on 02 15 2000 08 52 am richard c iles on 09 14 2000 11 14 56 am please respond to richard c iles to cc subject enron opportunities dr kaminski here is my resume and cover letter thanks richard iles enron cover and\",\n          \"biliana s resume geynille i understand you are in charge of recruiting at the uofh i am forwarding to you the resume of one of the students of the university of houston she is involved with the international organization called aiesec and i was most impressed by her organizational skills and professional attitude i used to work as a volunteer for this organization many years ago and i am still helping their local chapter as far as i know she signed up for an interview with enron vince kaminskiforwarded by vince j kaminski hou ect on 09 29 2000 02 13 pm biliana pehlivanova on 09 28 2000 06 02 20 pm to vkamins enron com cc subject biliana s resume mr kaminski thank you for referring me to your recru\"\n        ],\n        \"semantic_type\": \"\",\n        \"description\": \"\"\n      }\n    },\n    {\n      \"column\": \"len\",\n      \"properties\": {\n        \"dtype\": \"number\",\n        \"std\": 287,\n        \"min\": 1,\n        \"max\": 800,\n        \"num_unique_values\": 797,\n        \"samples\": [\n          791,\n          247\n        ],\n        \"semantic_type\": \"\",\n        \"description\": \"\"\n      }\n    },\n    {\n      \"column\": \"n_emojis\",\n      \"properties\": {\n        \"dtype\": \"number\",\n        \"std\": 3,\n        \"min\": 0,\n        \"max\": 97,\n        \"num_unique_values\": 61,\n        \"samples\": [\n          0,\n          8\n        ],\n        \"semantic_type\": \"\",\n        \"description\": \"\"\n      }\n    },\n    {\n      \"column\": \"preprocessed\",\n      \"properties\": {\n        \"dtype\": \"string\",\n        \"num_unique_values\": 16186,\n        \"samples\": [\n          \"credit law side jm get perfect credit show quickly easily improve credit perfect rating click full free detail\",\n          \"strange watching 2nd one im bed sweet dream miss u\"\n        ],\n        \"semantic_type\": \"\",\n        \"description\": \"\"\n      }\n    }\n  ]\n}"
            }
          },
          "metadata": {},
          "execution_count": 19
        }
      ],
      "source": [
        "train"
      ]
    },
    {
      "cell_type": "code",
      "execution_count": 20,
      "id": "1615f2fd",
      "metadata": {
        "colab": {
          "base_uri": "https://localhost:8080/",
          "height": 54
        },
        "id": "1615f2fd",
        "outputId": "4c4d0e9d-87fd-4b15-dce1-2c233c18c10a"
      },
      "outputs": [
        {
          "output_type": "execute_result",
          "data": {
            "text/plain": [
              "'plzz visit website moviesgodml get movie free also provide direct download link redirect ads😊😊😊😊😁'"
            ],
            "application/vnd.google.colaboratory.intrinsic+json": {
              "type": "string"
            }
          },
          "metadata": {},
          "execution_count": 20
        }
      ],
      "source": [
        "# Эмодзи сохранены\n",
        "list(train['preprocessed'][train['text_type'] == 'spam'])[0]"
      ]
    },
    {
      "cell_type": "markdown",
      "id": "bdef6a3a",
      "metadata": {
        "id": "bdef6a3a"
      },
      "source": [
        "### Энкодим spam -> 1, ham -> 0"
      ]
    },
    {
      "cell_type": "code",
      "execution_count": 21,
      "id": "a2114777",
      "metadata": {
        "id": "a2114777"
      },
      "outputs": [],
      "source": [
        "train['y'] = train['text_type'].apply(lambda x: 1 if x == 'spam' else 0)"
      ]
    },
    {
      "cell_type": "markdown",
      "id": "9c65a970",
      "metadata": {
        "id": "9c65a970"
      },
      "source": [
        "### Данные не сбалансированы. Надо учесть при обучении"
      ]
    },
    {
      "cell_type": "code",
      "execution_count": 22,
      "id": "ad32152d",
      "metadata": {
        "colab": {
          "base_uri": "https://localhost:8080/"
        },
        "id": "ad32152d",
        "outputId": "99aadd82-0c02-4b87-cc0b-872037476c9b"
      },
      "outputs": [
        {
          "output_type": "execute_result",
          "data": {
            "text/plain": [
              "text_type\n",
              "ham     11469\n",
              "spam     4809\n",
              "Name: count, dtype: int64"
            ]
          },
          "metadata": {},
          "execution_count": 22
        }
      ],
      "source": [
        "train['text_type'].value_counts()"
      ]
    },
    {
      "cell_type": "code",
      "execution_count": 23,
      "id": "fae9de59",
      "metadata": {
        "id": "fae9de59"
      },
      "outputs": [],
      "source": [
        "train_ham_downsampled = train[train['text_type'] == 'ham'].sample(n=train['text_type'].value_counts()['spam'])"
      ]
    },
    {
      "cell_type": "code",
      "execution_count": 24,
      "id": "621452a2",
      "metadata": {
        "id": "621452a2"
      },
      "outputs": [],
      "source": [
        "train_balanced = pd.concat([train_ham_downsampled, train[train['text_type'] == 'spam']]).reset_index().drop('index', axis=1)"
      ]
    },
    {
      "cell_type": "code",
      "execution_count": 25,
      "id": "faccbb8d",
      "metadata": {
        "colab": {
          "base_uri": "https://localhost:8080/"
        },
        "id": "faccbb8d",
        "outputId": "abe1d0a1-1bb4-4c31-f921-bfda8364ffab"
      },
      "outputs": [
        {
          "output_type": "execute_result",
          "data": {
            "text/plain": [
              "text_type\n",
              "ham     4809\n",
              "spam    4809\n",
              "Name: count, dtype: int64"
            ]
          },
          "metadata": {},
          "execution_count": 25
        }
      ],
      "source": [
        "train_balanced['text_type'].value_counts()"
      ]
    },
    {
      "cell_type": "markdown",
      "id": "242d6baf",
      "metadata": {
        "id": "242d6baf"
      },
      "source": [
        "### Train/val/test split"
      ]
    },
    {
      "cell_type": "code",
      "execution_count": 26,
      "id": "cacf2b53",
      "metadata": {
        "id": "cacf2b53"
      },
      "outputs": [],
      "source": [
        "from sklearn.model_selection import train_test_split\n",
        "\n",
        "test_size = 0.15\n",
        "val_size = 0.15\n",
        "train_size = 1 - test_size - val_size\n",
        "\n",
        "train, val = train_test_split(train_balanced,\n",
        "                              train_size=train_size,\n",
        "                              shuffle=True,\n",
        "                              random_state=0,\n",
        "                              stratify=train_balanced['text_type'])\n",
        "val, test = train_test_split(val,\n",
        "                             train_size=val_size/(val_size+test_size),\n",
        "                             shuffle=True,\n",
        "                             random_state=0,\n",
        "                             stratify=val['text_type'])"
      ]
    },
    {
      "cell_type": "code",
      "execution_count": 27,
      "id": "7a29e555",
      "metadata": {
        "colab": {
          "base_uri": "https://localhost:8080/"
        },
        "id": "7a29e555",
        "outputId": "fbbb0524-3cf6-46a5-84ac-ac77813dead0"
      },
      "outputs": [
        {
          "output_type": "execute_result",
          "data": {
            "text/plain": [
              "(6732, 1443, 1443)"
            ]
          },
          "metadata": {},
          "execution_count": 27
        }
      ],
      "source": [
        "len(train), len(test), len(val)"
      ]
    },
    {
      "cell_type": "code",
      "execution_count": 28,
      "id": "58e9238a",
      "metadata": {
        "id": "58e9238a"
      },
      "outputs": [],
      "source": [
        "y_train = list(train['y'])\n",
        "y_test = list(test['y'])\n",
        "y_val = list(val['y'])"
      ]
    },
    {
      "cell_type": "markdown",
      "id": "686f05f5",
      "metadata": {
        "id": "686f05f5"
      },
      "source": [
        "## TFIDF vectorize"
      ]
    },
    {
      "cell_type": "code",
      "execution_count": 29,
      "id": "095b8b68",
      "metadata": {
        "id": "095b8b68"
      },
      "outputs": [],
      "source": [
        "from sklearn.feature_extraction.text import TfidfVectorizer\n",
        "\n",
        "corpus = list(train['preprocessed'])\n",
        "vectorizer = TfidfVectorizer(max_features=200)\n",
        "X_train_tfidf = vectorizer.fit_transform(corpus).toarray()\n",
        "X_val_tfidf = vectorizer.transform(list(val['preprocessed'])).toarray()\n",
        "X_test_tfidf = vectorizer.transform(list(test['preprocessed'])).toarray()"
      ]
    },
    {
      "cell_type": "markdown",
      "id": "382772cc",
      "metadata": {
        "id": "382772cc"
      },
      "source": [
        "## Bert Embeddings\n",
        "Попробуем также эмбеддинги с берта для сравнения\n",
        "\n",
        "https://huggingface.co/mrm8488/bert-tiny-finetuned-sms-spam-detection"
      ]
    },
    {
      "cell_type": "code",
      "execution_count": 30,
      "id": "d8544b34",
      "metadata": {
        "colab": {
          "base_uri": "https://localhost:8080/"
        },
        "id": "d8544b34",
        "outputId": "5d26cdef-821e-4410-a04a-d66a682e139e"
      },
      "outputs": [
        {
          "output_type": "stream",
          "name": "stderr",
          "text": [
            "/usr/local/lib/python3.10/dist-packages/huggingface_hub/utils/_token.py:88: UserWarning: \n",
            "The secret `HF_TOKEN` does not exist in your Colab secrets.\n",
            "To authenticate with the Hugging Face Hub, create a token in your settings tab (https://huggingface.co/settings/tokens), set it as secret in your Google Colab and restart your session.\n",
            "You will be able to reuse this secret in all of your notebooks.\n",
            "Please note that authentication is recommended but still optional to access public models or datasets.\n",
            "  warnings.warn(\n"
          ]
        }
      ],
      "source": [
        "from transformers import BertTokenizer, BertModel\n",
        "import torch\n",
        "\n",
        "device = torch.device(\"cuda\" if torch.cuda.is_available() else \"cpu\")\n",
        "#device = torch.device(\"cpu\")\n",
        "\n",
        "\n",
        "tokenizer = BertTokenizer.from_pretrained(\"mrm8488/bert-tiny-finetuned-sms-spam-detection\")\n",
        "model = BertModel.from_pretrained(\"mrm8488/bert-tiny-finetuned-sms-spam-detection\").to(device)"
      ]
    },
    {
      "cell_type": "code",
      "execution_count": 71,
      "id": "29fc87fb",
      "metadata": {
        "id": "29fc87fb"
      },
      "outputs": [],
      "source": [
        "from tqdm import tqdm\n",
        "\n",
        "def get_embeddings(text_corpus):\n",
        "    embeddings = np.zeros((len(text_corpus), 128), dtype=np.float32)\n",
        "\n",
        "    batch_size = 64\n",
        "    for idx in tqdm(range(0, len(text_corpus), batch_size), total=len(text_corpus)//batch_size):\n",
        "        end_idx = min(idx + batch_size, len(text_corpus) - 1)\n",
        "\n",
        "        # Get tokens\n",
        "        tokens = tokenizer.batch_encode_plus(text_corpus[idx:end_idx], max_length=512, pad_to_max_length=True)\n",
        "        # Get input, token types and attention mask\n",
        "        inp = torch.tensor(tokens['input_ids']).to(device)\n",
        "        token_types = torch.tensor(tokens['token_type_ids']).to(device)\n",
        "        attn_mask = torch.tensor(tokens['attention_mask']).to(device)\n",
        "\n",
        "        emb = model(inp, token_type_ids=token_types, attention_mask=attn_mask)[0].detach().cpu()\n",
        "        # Берем эмбеддинг с CLS токена\n",
        "        emb = emb[:, 0]\n",
        "        embeddings[idx:end_idx] = emb.numpy().astype(np.float16)\n",
        "    return embeddings"
      ]
    },
    {
      "cell_type": "code",
      "execution_count": 32,
      "id": "c81c320a",
      "metadata": {
        "colab": {
          "base_uri": "https://localhost:8080/"
        },
        "id": "c81c320a",
        "outputId": "1450fe73-af3b-4f51-a0c8-b09760999083"
      },
      "outputs": [
        {
          "output_type": "stream",
          "name": "stderr",
          "text": [
            "\r  0%|          | 0/105 [00:00<?, ?it/s]Truncation was not explicitly activated but `max_length` is provided a specific value, please use `truncation=True` to explicitly truncate examples to max length. Defaulting to 'longest_first' truncation strategy. If you encode pairs of sequences (GLUE-style) with the tokenizer you can select this strategy more precisely by providing a specific strategy to `truncation`.\n",
            "/usr/local/lib/python3.10/dist-packages/transformers/tokenization_utils_base.py:2674: FutureWarning: The `pad_to_max_length` argument is deprecated and will be removed in a future version, use `padding=True` or `padding='longest'` to pad to the longest sequence in the batch, or use `padding='max_length'` to pad to a max length. In this case, you can give a specific length with `max_length` (e.g. `max_length=45`) or leave max_length to None to pad to the maximal input size of the model (e.g. 512 for Bert).\n",
            "  warnings.warn(\n",
            "  1%|          | 1/105 [00:02<04:41,  2.71s/it]/usr/local/lib/python3.10/dist-packages/transformers/tokenization_utils_base.py:2674: FutureWarning: The `pad_to_max_length` argument is deprecated and will be removed in a future version, use `padding=True` or `padding='longest'` to pad to the longest sequence in the batch, or use `padding='max_length'` to pad to a max length. In this case, you can give a specific length with `max_length` (e.g. `max_length=45`) or leave max_length to None to pad to the maximal input size of the model (e.g. 512 for Bert).\n",
            "  warnings.warn(\n",
            "106it [00:22,  4.77it/s]                         \n",
            "23it [00:02,  8.60it/s]                        \n",
            "23it [00:02,  8.43it/s]                        \n"
          ]
        }
      ],
      "source": [
        "X_train_embs = get_embeddings(list(train['preprocessed']))\n",
        "X_val_embs = get_embeddings(list(val['preprocessed']))\n",
        "X_test_embs = get_embeddings(list(test['preprocessed']))"
      ]
    },
    {
      "cell_type": "markdown",
      "id": "ff83621e",
      "metadata": {
        "id": "ff83621e"
      },
      "source": [
        "# KNN + TFIDF"
      ]
    },
    {
      "cell_type": "code",
      "execution_count": 33,
      "id": "d1c667c2",
      "metadata": {
        "colab": {
          "base_uri": "https://localhost:8080/",
          "height": 1000
        },
        "id": "d1c667c2",
        "outputId": "2e70156d-dde5-4bcd-ad3c-ab9c9f9c6a4c"
      },
      "outputs": [
        {
          "output_type": "stream",
          "name": "stdout",
          "text": [
            "Fitting 5 folds for each of 12 candidates, totalling 60 fits\n",
            "[CV 1/5] END ......metric=cosine, n_neighbors=3;, score=0.754 total time=   0.4s\n",
            "[CV 2/5] END ......metric=cosine, n_neighbors=3;, score=0.765 total time=   0.4s\n",
            "[CV 3/5] END ......metric=cosine, n_neighbors=3;, score=0.787 total time=   0.5s\n",
            "[CV 4/5] END ......metric=cosine, n_neighbors=3;, score=0.780 total time=   0.5s\n",
            "[CV 5/5] END ......metric=cosine, n_neighbors=3;, score=0.793 total time=   0.5s\n",
            "[CV 1/5] END ......metric=cosine, n_neighbors=5;, score=0.772 total time=   0.5s\n",
            "[CV 2/5] END ......metric=cosine, n_neighbors=5;, score=0.770 total time=   0.5s\n",
            "[CV 3/5] END ......metric=cosine, n_neighbors=5;, score=0.791 total time=   0.5s\n",
            "[CV 4/5] END ......metric=cosine, n_neighbors=5;, score=0.777 total time=   0.3s\n",
            "[CV 5/5] END ......metric=cosine, n_neighbors=5;, score=0.771 total time=   0.4s\n",
            "[CV 1/5] END ......metric=cosine, n_neighbors=8;, score=0.741 total time=   0.4s\n",
            "[CV 2/5] END ......metric=cosine, n_neighbors=8;, score=0.752 total time=   0.4s\n",
            "[CV 3/5] END ......metric=cosine, n_neighbors=8;, score=0.775 total time=   0.4s\n",
            "[CV 4/5] END ......metric=cosine, n_neighbors=8;, score=0.760 total time=   0.4s\n",
            "[CV 5/5] END ......metric=cosine, n_neighbors=8;, score=0.749 total time=   0.4s\n",
            "[CV 1/5] END .....metric=cosine, n_neighbors=11;, score=0.763 total time=   0.4s\n",
            "[CV 2/5] END .....metric=cosine, n_neighbors=11;, score=0.781 total time=   0.4s\n",
            "[CV 3/5] END .....metric=cosine, n_neighbors=11;, score=0.797 total time=   0.3s\n",
            "[CV 4/5] END .....metric=cosine, n_neighbors=11;, score=0.781 total time=   0.4s\n",
            "[CV 5/5] END .....metric=cosine, n_neighbors=11;, score=0.784 total time=   0.4s\n",
            "[CV 1/5] END ..........metric=l1, n_neighbors=3;, score=0.700 total time=   2.5s\n",
            "[CV 2/5] END ..........metric=l1, n_neighbors=3;, score=0.704 total time=   2.4s\n",
            "[CV 3/5] END ..........metric=l1, n_neighbors=3;, score=0.728 total time=   3.4s\n",
            "[CV 4/5] END ..........metric=l1, n_neighbors=3;, score=0.714 total time=   2.4s\n",
            "[CV 5/5] END ..........metric=l1, n_neighbors=3;, score=0.734 total time=   2.4s\n",
            "[CV 1/5] END ..........metric=l1, n_neighbors=5;, score=0.667 total time=   2.4s\n",
            "[CV 2/5] END ..........metric=l1, n_neighbors=5;, score=0.671 total time=   2.4s\n",
            "[CV 3/5] END ..........metric=l1, n_neighbors=5;, score=0.707 total time=   3.4s\n",
            "[CV 4/5] END ..........metric=l1, n_neighbors=5;, score=0.704 total time=   2.4s\n",
            "[CV 5/5] END ..........metric=l1, n_neighbors=5;, score=0.718 total time=   2.4s\n",
            "[CV 1/5] END ..........metric=l1, n_neighbors=8;, score=0.570 total time=   2.5s\n",
            "[CV 2/5] END ..........metric=l1, n_neighbors=8;, score=0.601 total time=   2.4s\n",
            "[CV 3/5] END ..........metric=l1, n_neighbors=8;, score=0.593 total time=   3.4s\n",
            "[CV 4/5] END ..........metric=l1, n_neighbors=8;, score=0.615 total time=   2.4s\n",
            "[CV 5/5] END ..........metric=l1, n_neighbors=8;, score=0.602 total time=   2.4s\n",
            "[CV 1/5] END .........metric=l1, n_neighbors=11;, score=0.559 total time=   2.4s\n",
            "[CV 2/5] END .........metric=l1, n_neighbors=11;, score=0.616 total time=   2.5s\n",
            "[CV 3/5] END .........metric=l1, n_neighbors=11;, score=0.630 total time=   3.4s\n",
            "[CV 4/5] END .........metric=l1, n_neighbors=11;, score=0.638 total time=   2.4s\n",
            "[CV 5/5] END .........metric=l1, n_neighbors=11;, score=0.629 total time=   2.4s\n",
            "[CV 1/5] END ..........metric=l2, n_neighbors=3;, score=0.735 total time=   1.7s\n",
            "[CV 2/5] END ..........metric=l2, n_neighbors=3;, score=0.741 total time=   1.7s\n",
            "[CV 3/5] END ..........metric=l2, n_neighbors=3;, score=0.757 total time=   2.3s\n",
            "[CV 4/5] END ..........metric=l2, n_neighbors=3;, score=0.745 total time=   2.4s\n",
            "[CV 5/5] END ..........metric=l2, n_neighbors=3;, score=0.770 total time=   1.7s\n",
            "[CV 1/5] END ..........metric=l2, n_neighbors=5;, score=0.712 total time=   1.7s\n",
            "[CV 2/5] END ..........metric=l2, n_neighbors=5;, score=0.730 total time=   1.7s\n",
            "[CV 3/5] END ..........metric=l2, n_neighbors=5;, score=0.759 total time=   1.7s\n",
            "[CV 4/5] END ..........metric=l2, n_neighbors=5;, score=0.746 total time=   1.7s\n",
            "[CV 5/5] END ..........metric=l2, n_neighbors=5;, score=0.763 total time=   3.6s\n",
            "[CV 1/5] END ..........metric=l2, n_neighbors=8;, score=0.665 total time=   1.7s\n",
            "[CV 2/5] END ..........metric=l2, n_neighbors=8;, score=0.677 total time=   1.8s\n",
            "[CV 3/5] END ..........metric=l2, n_neighbors=8;, score=0.682 total time=   1.7s\n",
            "[CV 4/5] END ..........metric=l2, n_neighbors=8;, score=0.697 total time=   1.7s\n",
            "[CV 5/5] END ..........metric=l2, n_neighbors=8;, score=0.703 total time=   1.7s\n",
            "[CV 1/5] END .........metric=l2, n_neighbors=11;, score=0.669 total time=   2.4s\n",
            "[CV 2/5] END .........metric=l2, n_neighbors=11;, score=0.699 total time=   2.3s\n",
            "[CV 3/5] END .........metric=l2, n_neighbors=11;, score=0.711 total time=   1.7s\n",
            "[CV 4/5] END .........metric=l2, n_neighbors=11;, score=0.708 total time=   1.8s\n",
            "[CV 5/5] END .........metric=l2, n_neighbors=11;, score=0.720 total time=   1.8s\n"
          ]
        },
        {
          "output_type": "execute_result",
          "data": {
            "text/plain": [
              "GridSearchCV(cv=5, estimator=KNeighborsClassifier(),\n",
              "             param_grid={'metric': ['cosine', 'l1', 'l2'],\n",
              "                         'n_neighbors': [3, 5, 8, 11]},\n",
              "             scoring='f1', verbose=3)"
            ],
            "text/html": [
              "<style>#sk-container-id-1 {color: black;background-color: white;}#sk-container-id-1 pre{padding: 0;}#sk-container-id-1 div.sk-toggleable {background-color: white;}#sk-container-id-1 label.sk-toggleable__label {cursor: pointer;display: block;width: 100%;margin-bottom: 0;padding: 0.3em;box-sizing: border-box;text-align: center;}#sk-container-id-1 label.sk-toggleable__label-arrow:before {content: \"▸\";float: left;margin-right: 0.25em;color: #696969;}#sk-container-id-1 label.sk-toggleable__label-arrow:hover:before {color: black;}#sk-container-id-1 div.sk-estimator:hover label.sk-toggleable__label-arrow:before {color: black;}#sk-container-id-1 div.sk-toggleable__content {max-height: 0;max-width: 0;overflow: hidden;text-align: left;background-color: #f0f8ff;}#sk-container-id-1 div.sk-toggleable__content pre {margin: 0.2em;color: black;border-radius: 0.25em;background-color: #f0f8ff;}#sk-container-id-1 input.sk-toggleable__control:checked~div.sk-toggleable__content {max-height: 200px;max-width: 100%;overflow: auto;}#sk-container-id-1 input.sk-toggleable__control:checked~label.sk-toggleable__label-arrow:before {content: \"▾\";}#sk-container-id-1 div.sk-estimator input.sk-toggleable__control:checked~label.sk-toggleable__label {background-color: #d4ebff;}#sk-container-id-1 div.sk-label input.sk-toggleable__control:checked~label.sk-toggleable__label {background-color: #d4ebff;}#sk-container-id-1 input.sk-hidden--visually {border: 0;clip: rect(1px 1px 1px 1px);clip: rect(1px, 1px, 1px, 1px);height: 1px;margin: -1px;overflow: hidden;padding: 0;position: absolute;width: 1px;}#sk-container-id-1 div.sk-estimator {font-family: monospace;background-color: #f0f8ff;border: 1px dotted black;border-radius: 0.25em;box-sizing: border-box;margin-bottom: 0.5em;}#sk-container-id-1 div.sk-estimator:hover {background-color: #d4ebff;}#sk-container-id-1 div.sk-parallel-item::after {content: \"\";width: 100%;border-bottom: 1px solid gray;flex-grow: 1;}#sk-container-id-1 div.sk-label:hover label.sk-toggleable__label {background-color: #d4ebff;}#sk-container-id-1 div.sk-serial::before {content: \"\";position: absolute;border-left: 1px solid gray;box-sizing: border-box;top: 0;bottom: 0;left: 50%;z-index: 0;}#sk-container-id-1 div.sk-serial {display: flex;flex-direction: column;align-items: center;background-color: white;padding-right: 0.2em;padding-left: 0.2em;position: relative;}#sk-container-id-1 div.sk-item {position: relative;z-index: 1;}#sk-container-id-1 div.sk-parallel {display: flex;align-items: stretch;justify-content: center;background-color: white;position: relative;}#sk-container-id-1 div.sk-item::before, #sk-container-id-1 div.sk-parallel-item::before {content: \"\";position: absolute;border-left: 1px solid gray;box-sizing: border-box;top: 0;bottom: 0;left: 50%;z-index: -1;}#sk-container-id-1 div.sk-parallel-item {display: flex;flex-direction: column;z-index: 1;position: relative;background-color: white;}#sk-container-id-1 div.sk-parallel-item:first-child::after {align-self: flex-end;width: 50%;}#sk-container-id-1 div.sk-parallel-item:last-child::after {align-self: flex-start;width: 50%;}#sk-container-id-1 div.sk-parallel-item:only-child::after {width: 0;}#sk-container-id-1 div.sk-dashed-wrapped {border: 1px dashed gray;margin: 0 0.4em 0.5em 0.4em;box-sizing: border-box;padding-bottom: 0.4em;background-color: white;}#sk-container-id-1 div.sk-label label {font-family: monospace;font-weight: bold;display: inline-block;line-height: 1.2em;}#sk-container-id-1 div.sk-label-container {text-align: center;}#sk-container-id-1 div.sk-container {/* jupyter's `normalize.less` sets `[hidden] { display: none; }` but bootstrap.min.css set `[hidden] { display: none !important; }` so we also need the `!important` here to be able to override the default hidden behavior on the sphinx rendered scikit-learn.org. See: https://github.com/scikit-learn/scikit-learn/issues/21755 */display: inline-block !important;position: relative;}#sk-container-id-1 div.sk-text-repr-fallback {display: none;}</style><div id=\"sk-container-id-1\" class=\"sk-top-container\"><div class=\"sk-text-repr-fallback\"><pre>GridSearchCV(cv=5, estimator=KNeighborsClassifier(),\n",
              "             param_grid={&#x27;metric&#x27;: [&#x27;cosine&#x27;, &#x27;l1&#x27;, &#x27;l2&#x27;],\n",
              "                         &#x27;n_neighbors&#x27;: [3, 5, 8, 11]},\n",
              "             scoring=&#x27;f1&#x27;, verbose=3)</pre><b>In a Jupyter environment, please rerun this cell to show the HTML representation or trust the notebook. <br />On GitHub, the HTML representation is unable to render, please try loading this page with nbviewer.org.</b></div><div class=\"sk-container\" hidden><div class=\"sk-item sk-dashed-wrapped\"><div class=\"sk-label-container\"><div class=\"sk-label sk-toggleable\"><input class=\"sk-toggleable__control sk-hidden--visually\" id=\"sk-estimator-id-1\" type=\"checkbox\" ><label for=\"sk-estimator-id-1\" class=\"sk-toggleable__label sk-toggleable__label-arrow\">GridSearchCV</label><div class=\"sk-toggleable__content\"><pre>GridSearchCV(cv=5, estimator=KNeighborsClassifier(),\n",
              "             param_grid={&#x27;metric&#x27;: [&#x27;cosine&#x27;, &#x27;l1&#x27;, &#x27;l2&#x27;],\n",
              "                         &#x27;n_neighbors&#x27;: [3, 5, 8, 11]},\n",
              "             scoring=&#x27;f1&#x27;, verbose=3)</pre></div></div></div><div class=\"sk-parallel\"><div class=\"sk-parallel-item\"><div class=\"sk-item\"><div class=\"sk-label-container\"><div class=\"sk-label sk-toggleable\"><input class=\"sk-toggleable__control sk-hidden--visually\" id=\"sk-estimator-id-2\" type=\"checkbox\" ><label for=\"sk-estimator-id-2\" class=\"sk-toggleable__label sk-toggleable__label-arrow\">estimator: KNeighborsClassifier</label><div class=\"sk-toggleable__content\"><pre>KNeighborsClassifier()</pre></div></div></div><div class=\"sk-serial\"><div class=\"sk-item\"><div class=\"sk-estimator sk-toggleable\"><input class=\"sk-toggleable__control sk-hidden--visually\" id=\"sk-estimator-id-3\" type=\"checkbox\" ><label for=\"sk-estimator-id-3\" class=\"sk-toggleable__label sk-toggleable__label-arrow\">KNeighborsClassifier</label><div class=\"sk-toggleable__content\"><pre>KNeighborsClassifier()</pre></div></div></div></div></div></div></div></div></div></div>"
            ]
          },
          "metadata": {},
          "execution_count": 33
        }
      ],
      "source": [
        "from sklearn.model_selection import GridSearchCV\n",
        "from sklearn.neighbors import KNeighborsClassifier\n",
        "\n",
        "param_grid = {'metric': ['cosine', 'l1', 'l2'], 'n_neighbors': [3, 5, 8, 11]}\n",
        "\n",
        "grid_knn = GridSearchCV(KNeighborsClassifier(), param_grid=param_grid, cv=5, scoring='f1', verbose=3)\n",
        "\n",
        "X_full = np.concatenate((X_train_tfidf, X_val_tfidf), axis=0)\n",
        "y_full = y_train + y_val\n",
        "\n",
        "grid_knn.fit(X_full, y_full)"
      ]
    },
    {
      "cell_type": "code",
      "execution_count": 37,
      "id": "3c9f20b0",
      "metadata": {
        "colab": {
          "base_uri": "https://localhost:8080/"
        },
        "id": "3c9f20b0",
        "outputId": "5f7985f1-eefc-46a1-de17-038ba47f7738"
      },
      "outputs": [
        {
          "output_type": "stream",
          "name": "stdout",
          "text": [
            "Roc-auc score: 0.8622363906700834\n"
          ]
        }
      ],
      "source": [
        "from sklearn.metrics import roc_auc_score\n",
        "\n",
        "y_pred = grid_knn.predict_proba(X_test_tfidf)[:, 1]\n",
        "score = roc_auc_score(y_test, y_pred)\n",
        "print(f\"Roc-auc score: {score}\")"
      ]
    },
    {
      "cell_type": "markdown",
      "id": "2fde0d3f",
      "metadata": {
        "id": "2fde0d3f"
      },
      "source": [
        "# KNN + BertEmbeddings"
      ]
    },
    {
      "cell_type": "code",
      "execution_count": 38,
      "id": "393d479c",
      "metadata": {
        "colab": {
          "base_uri": "https://localhost:8080/",
          "height": 1000
        },
        "id": "393d479c",
        "outputId": "e4b5d4ef-e5cb-4614-bfb6-11626ffd7ec7"
      },
      "outputs": [
        {
          "output_type": "stream",
          "name": "stdout",
          "text": [
            "[CV 2/5] END ......metric=cosine, n_neighbors=3;, score=0.906 total time=   0.4s\n",
            "[CV 3/5] END ......metric=cosine, n_neighbors=3;, score=0.918 total time=   0.5s\n",
            "[CV 4/5] END ......metric=cosine, n_neighbors=3;, score=0.908 total time=   0.4s\n",
            "[CV 5/5] END ......metric=cosine, n_neighbors=3;, score=0.919 total time=   0.5s\n",
            "[CV 1/5] END ......metric=cosine, n_neighbors=5;, score=0.914 total time=   0.5s\n",
            "[CV 2/5] END ......metric=cosine, n_neighbors=5;, score=0.911 total time=   0.5s\n",
            "[CV 3/5] END ......metric=cosine, n_neighbors=5;, score=0.916 total time=   0.4s\n",
            "[CV 4/5] END ......metric=cosine, n_neighbors=5;, score=0.908 total time=   0.5s\n",
            "[CV 5/5] END ......metric=cosine, n_neighbors=5;, score=0.914 total time=   0.5s\n",
            "[CV 1/5] END ......metric=cosine, n_neighbors=8;, score=0.914 total time=   0.5s\n",
            "[CV 2/5] END ......metric=cosine, n_neighbors=8;, score=0.902 total time=   0.5s\n",
            "[CV 3/5] END ......metric=cosine, n_neighbors=8;, score=0.904 total time=   0.4s\n",
            "[CV 4/5] END ......metric=cosine, n_neighbors=8;, score=0.906 total time=   0.5s\n",
            "[CV 5/5] END ......metric=cosine, n_neighbors=8;, score=0.904 total time=   0.4s\n",
            "[CV 1/5] END .....metric=cosine, n_neighbors=11;, score=0.912 total time=   0.6s\n",
            "[CV 2/5] END .....metric=cosine, n_neighbors=11;, score=0.902 total time=   0.8s\n",
            "[CV 3/5] END .....metric=cosine, n_neighbors=11;, score=0.906 total time=   0.6s\n",
            "[CV 4/5] END .....metric=cosine, n_neighbors=11;, score=0.902 total time=   0.8s\n",
            "[CV 5/5] END .....metric=cosine, n_neighbors=11;, score=0.905 total time=   0.7s\n",
            "[CV 1/5] END ..........metric=l1, n_neighbors=3;, score=0.912 total time=   2.4s\n",
            "[CV 2/5] END ..........metric=l1, n_neighbors=3;, score=0.904 total time=   2.4s\n",
            "[CV 3/5] END ..........metric=l1, n_neighbors=3;, score=0.914 total time=   2.5s\n",
            "[CV 4/5] END ..........metric=l1, n_neighbors=3;, score=0.901 total time=   2.2s\n",
            "[CV 5/5] END ..........metric=l1, n_neighbors=3;, score=0.913 total time=   3.8s\n",
            "[CV 1/5] END ..........metric=l1, n_neighbors=5;, score=0.906 total time=   2.2s\n",
            "[CV 2/5] END ..........metric=l1, n_neighbors=5;, score=0.904 total time=   2.3s\n",
            "[CV 3/5] END ..........metric=l1, n_neighbors=5;, score=0.913 total time=   2.3s\n",
            "[CV 4/5] END ..........metric=l1, n_neighbors=5;, score=0.910 total time=   1.3s\n",
            "[CV 5/5] END ..........metric=l1, n_neighbors=5;, score=0.914 total time=   1.4s\n",
            "[CV 1/5] END ..........metric=l1, n_neighbors=8;, score=0.907 total time=   2.2s\n",
            "[CV 2/5] END ..........metric=l1, n_neighbors=8;, score=0.903 total time=   1.7s\n",
            "[CV 3/5] END ..........metric=l1, n_neighbors=8;, score=0.905 total time=   1.4s\n",
            "[CV 4/5] END ..........metric=l1, n_neighbors=8;, score=0.903 total time=   1.4s\n",
            "[CV 5/5] END ..........metric=l1, n_neighbors=8;, score=0.906 total time=   1.4s\n",
            "[CV 1/5] END .........metric=l1, n_neighbors=11;, score=0.911 total time=   1.4s\n",
            "[CV 2/5] END .........metric=l1, n_neighbors=11;, score=0.905 total time=   1.4s\n",
            "[CV 3/5] END .........metric=l1, n_neighbors=11;, score=0.907 total time=   1.3s\n",
            "[CV 4/5] END .........metric=l1, n_neighbors=11;, score=0.895 total time=   1.6s\n",
            "[CV 5/5] END .........metric=l1, n_neighbors=11;, score=0.897 total time=   2.4s\n",
            "[CV 1/5] END ..........metric=l2, n_neighbors=3;, score=0.914 total time=   1.4s\n",
            "[CV 2/5] END ..........metric=l2, n_neighbors=3;, score=0.903 total time=   1.4s\n",
            "[CV 3/5] END ..........metric=l2, n_neighbors=3;, score=0.918 total time=   1.4s\n",
            "[CV 4/5] END ..........metric=l2, n_neighbors=3;, score=0.907 total time=   1.4s\n",
            "[CV 5/5] END ..........metric=l2, n_neighbors=3;, score=0.919 total time=   1.4s\n",
            "[CV 1/5] END ..........metric=l2, n_neighbors=5;, score=0.916 total time=   1.4s\n",
            "[CV 2/5] END ..........metric=l2, n_neighbors=5;, score=0.909 total time=   2.3s\n",
            "[CV 3/5] END ..........metric=l2, n_neighbors=5;, score=0.917 total time=   3.6s\n",
            "[CV 4/5] END ..........metric=l2, n_neighbors=5;, score=0.907 total time=   1.4s\n",
            "[CV 5/5] END ..........metric=l2, n_neighbors=5;, score=0.913 total time=   1.4s\n",
            "[CV 1/5] END ..........metric=l2, n_neighbors=8;, score=0.913 total time=   1.4s\n",
            "[CV 2/5] END ..........metric=l2, n_neighbors=8;, score=0.900 total time=   1.4s\n",
            "[CV 3/5] END ..........metric=l2, n_neighbors=8;, score=0.905 total time=   1.4s\n",
            "[CV 4/5] END ..........metric=l2, n_neighbors=8;, score=0.905 total time=   1.4s\n",
            "[CV 5/5] END ..........metric=l2, n_neighbors=8;, score=0.905 total time=   2.2s\n",
            "[CV 1/5] END .........metric=l2, n_neighbors=11;, score=0.910 total time=   1.7s\n",
            "[CV 2/5] END .........metric=l2, n_neighbors=11;, score=0.902 total time=   1.4s\n",
            "[CV 3/5] END .........metric=l2, n_neighbors=11;, score=0.909 total time=   1.4s\n",
            "[CV 4/5] END .........metric=l2, n_neighbors=11;, score=0.901 total time=   1.4s\n",
            "[CV 5/5] END .........metric=l2, n_neighbors=11;, score=0.904 total time=   1.4s\n"
          ]
        },
        {
          "output_type": "execute_result",
          "data": {
            "text/plain": [
              "GridSearchCV(cv=5, estimator=KNeighborsClassifier(),\n",
              "             param_grid={'metric': ['cosine', 'l1', 'l2'],\n",
              "                         'n_neighbors': [3, 5, 8, 11]},\n",
              "             scoring='f1', verbose=3)"
            ],
            "text/html": [
              "<style>#sk-container-id-2 {color: black;background-color: white;}#sk-container-id-2 pre{padding: 0;}#sk-container-id-2 div.sk-toggleable {background-color: white;}#sk-container-id-2 label.sk-toggleable__label {cursor: pointer;display: block;width: 100%;margin-bottom: 0;padding: 0.3em;box-sizing: border-box;text-align: center;}#sk-container-id-2 label.sk-toggleable__label-arrow:before {content: \"▸\";float: left;margin-right: 0.25em;color: #696969;}#sk-container-id-2 label.sk-toggleable__label-arrow:hover:before {color: black;}#sk-container-id-2 div.sk-estimator:hover label.sk-toggleable__label-arrow:before {color: black;}#sk-container-id-2 div.sk-toggleable__content {max-height: 0;max-width: 0;overflow: hidden;text-align: left;background-color: #f0f8ff;}#sk-container-id-2 div.sk-toggleable__content pre {margin: 0.2em;color: black;border-radius: 0.25em;background-color: #f0f8ff;}#sk-container-id-2 input.sk-toggleable__control:checked~div.sk-toggleable__content {max-height: 200px;max-width: 100%;overflow: auto;}#sk-container-id-2 input.sk-toggleable__control:checked~label.sk-toggleable__label-arrow:before {content: \"▾\";}#sk-container-id-2 div.sk-estimator input.sk-toggleable__control:checked~label.sk-toggleable__label {background-color: #d4ebff;}#sk-container-id-2 div.sk-label input.sk-toggleable__control:checked~label.sk-toggleable__label {background-color: #d4ebff;}#sk-container-id-2 input.sk-hidden--visually {border: 0;clip: rect(1px 1px 1px 1px);clip: rect(1px, 1px, 1px, 1px);height: 1px;margin: -1px;overflow: hidden;padding: 0;position: absolute;width: 1px;}#sk-container-id-2 div.sk-estimator {font-family: monospace;background-color: #f0f8ff;border: 1px dotted black;border-radius: 0.25em;box-sizing: border-box;margin-bottom: 0.5em;}#sk-container-id-2 div.sk-estimator:hover {background-color: #d4ebff;}#sk-container-id-2 div.sk-parallel-item::after {content: \"\";width: 100%;border-bottom: 1px solid gray;flex-grow: 1;}#sk-container-id-2 div.sk-label:hover label.sk-toggleable__label {background-color: #d4ebff;}#sk-container-id-2 div.sk-serial::before {content: \"\";position: absolute;border-left: 1px solid gray;box-sizing: border-box;top: 0;bottom: 0;left: 50%;z-index: 0;}#sk-container-id-2 div.sk-serial {display: flex;flex-direction: column;align-items: center;background-color: white;padding-right: 0.2em;padding-left: 0.2em;position: relative;}#sk-container-id-2 div.sk-item {position: relative;z-index: 1;}#sk-container-id-2 div.sk-parallel {display: flex;align-items: stretch;justify-content: center;background-color: white;position: relative;}#sk-container-id-2 div.sk-item::before, #sk-container-id-2 div.sk-parallel-item::before {content: \"\";position: absolute;border-left: 1px solid gray;box-sizing: border-box;top: 0;bottom: 0;left: 50%;z-index: -1;}#sk-container-id-2 div.sk-parallel-item {display: flex;flex-direction: column;z-index: 1;position: relative;background-color: white;}#sk-container-id-2 div.sk-parallel-item:first-child::after {align-self: flex-end;width: 50%;}#sk-container-id-2 div.sk-parallel-item:last-child::after {align-self: flex-start;width: 50%;}#sk-container-id-2 div.sk-parallel-item:only-child::after {width: 0;}#sk-container-id-2 div.sk-dashed-wrapped {border: 1px dashed gray;margin: 0 0.4em 0.5em 0.4em;box-sizing: border-box;padding-bottom: 0.4em;background-color: white;}#sk-container-id-2 div.sk-label label {font-family: monospace;font-weight: bold;display: inline-block;line-height: 1.2em;}#sk-container-id-2 div.sk-label-container {text-align: center;}#sk-container-id-2 div.sk-container {/* jupyter's `normalize.less` sets `[hidden] { display: none; }` but bootstrap.min.css set `[hidden] { display: none !important; }` so we also need the `!important` here to be able to override the default hidden behavior on the sphinx rendered scikit-learn.org. See: https://github.com/scikit-learn/scikit-learn/issues/21755 */display: inline-block !important;position: relative;}#sk-container-id-2 div.sk-text-repr-fallback {display: none;}</style><div id=\"sk-container-id-2\" class=\"sk-top-container\"><div class=\"sk-text-repr-fallback\"><pre>GridSearchCV(cv=5, estimator=KNeighborsClassifier(),\n",
              "             param_grid={&#x27;metric&#x27;: [&#x27;cosine&#x27;, &#x27;l1&#x27;, &#x27;l2&#x27;],\n",
              "                         &#x27;n_neighbors&#x27;: [3, 5, 8, 11]},\n",
              "             scoring=&#x27;f1&#x27;, verbose=3)</pre><b>In a Jupyter environment, please rerun this cell to show the HTML representation or trust the notebook. <br />On GitHub, the HTML representation is unable to render, please try loading this page with nbviewer.org.</b></div><div class=\"sk-container\" hidden><div class=\"sk-item sk-dashed-wrapped\"><div class=\"sk-label-container\"><div class=\"sk-label sk-toggleable\"><input class=\"sk-toggleable__control sk-hidden--visually\" id=\"sk-estimator-id-4\" type=\"checkbox\" ><label for=\"sk-estimator-id-4\" class=\"sk-toggleable__label sk-toggleable__label-arrow\">GridSearchCV</label><div class=\"sk-toggleable__content\"><pre>GridSearchCV(cv=5, estimator=KNeighborsClassifier(),\n",
              "             param_grid={&#x27;metric&#x27;: [&#x27;cosine&#x27;, &#x27;l1&#x27;, &#x27;l2&#x27;],\n",
              "                         &#x27;n_neighbors&#x27;: [3, 5, 8, 11]},\n",
              "             scoring=&#x27;f1&#x27;, verbose=3)</pre></div></div></div><div class=\"sk-parallel\"><div class=\"sk-parallel-item\"><div class=\"sk-item\"><div class=\"sk-label-container\"><div class=\"sk-label sk-toggleable\"><input class=\"sk-toggleable__control sk-hidden--visually\" id=\"sk-estimator-id-5\" type=\"checkbox\" ><label for=\"sk-estimator-id-5\" class=\"sk-toggleable__label sk-toggleable__label-arrow\">estimator: KNeighborsClassifier</label><div class=\"sk-toggleable__content\"><pre>KNeighborsClassifier()</pre></div></div></div><div class=\"sk-serial\"><div class=\"sk-item\"><div class=\"sk-estimator sk-toggleable\"><input class=\"sk-toggleable__control sk-hidden--visually\" id=\"sk-estimator-id-6\" type=\"checkbox\" ><label for=\"sk-estimator-id-6\" class=\"sk-toggleable__label sk-toggleable__label-arrow\">KNeighborsClassifier</label><div class=\"sk-toggleable__content\"><pre>KNeighborsClassifier()</pre></div></div></div></div></div></div></div></div></div></div>"
            ]
          },
          "metadata": {},
          "execution_count": 38
        }
      ],
      "source": [
        "from sklearn.model_selection import GridSearchCV\n",
        "from sklearn.neighbors import KNeighborsClassifier\n",
        "\n",
        "param_grid = {'metric': ['cosine', 'l1', 'l2'], 'n_neighbors': [3, 5, 8, 11]}\n",
        "\n",
        "grid_knn = GridSearchCV(KNeighborsClassifier(), param_grid=param_grid, cv=5, scoring='f1', verbose=3)\n",
        "\n",
        "X_full = np.concatenate((X_train_embs, X_val_embs), axis=0)\n",
        "y_full = y_train + y_val\n",
        "\n",
        "grid_knn.fit(X_full, y_full)"
      ]
    },
    {
      "cell_type": "code",
      "execution_count": 39,
      "id": "fd99fe7e",
      "metadata": {
        "colab": {
          "base_uri": "https://localhost:8080/"
        },
        "id": "fd99fe7e",
        "outputId": "b33c5570-0b28-440f-8c22-321e6d3ab4ad"
      },
      "outputs": [
        {
          "output_type": "stream",
          "name": "stdout",
          "text": [
            "Roc-auc score: 0.9493115133259824\n"
          ]
        }
      ],
      "source": [
        "from sklearn.metrics import roc_auc_score\n",
        "\n",
        "y_pred = grid_knn.predict_proba(X_test_embs)[:, 1]\n",
        "score = roc_auc_score(y_test, y_pred)\n",
        "print(f\"Roc-auc score: {score}\")"
      ]
    },
    {
      "cell_type": "markdown",
      "id": "3f96934f",
      "metadata": {
        "id": "3f96934f"
      },
      "source": [
        "# Catboost + TFIDF"
      ]
    },
    {
      "cell_type": "code",
      "source": [
        "!pip install catboost"
      ],
      "metadata": {
        "colab": {
          "base_uri": "https://localhost:8080/"
        },
        "id": "dqbh5he49zD0",
        "outputId": "44bdb52f-a247-46d7-eab9-3763ecddffb0"
      },
      "id": "dqbh5he49zD0",
      "execution_count": 40,
      "outputs": [
        {
          "output_type": "stream",
          "name": "stdout",
          "text": [
            "Requirement already satisfied: catboost in /usr/local/lib/python3.10/dist-packages (1.2.5)\n",
            "Requirement already satisfied: graphviz in /usr/local/lib/python3.10/dist-packages (from catboost) (0.20.3)\n",
            "Requirement already satisfied: matplotlib in /usr/local/lib/python3.10/dist-packages (from catboost) (3.7.1)\n",
            "Requirement already satisfied: numpy>=1.16.0 in /usr/local/lib/python3.10/dist-packages (from catboost) (1.25.2)\n",
            "Requirement already satisfied: pandas>=0.24 in /usr/local/lib/python3.10/dist-packages (from catboost) (2.0.3)\n",
            "Requirement already satisfied: scipy in /usr/local/lib/python3.10/dist-packages (from catboost) (1.11.4)\n",
            "Requirement already satisfied: plotly in /usr/local/lib/python3.10/dist-packages (from catboost) (5.15.0)\n",
            "Requirement already satisfied: six in /usr/local/lib/python3.10/dist-packages (from catboost) (1.16.0)\n",
            "Requirement already satisfied: python-dateutil>=2.8.2 in /usr/local/lib/python3.10/dist-packages (from pandas>=0.24->catboost) (2.8.2)\n",
            "Requirement already satisfied: pytz>=2020.1 in /usr/local/lib/python3.10/dist-packages (from pandas>=0.24->catboost) (2023.4)\n",
            "Requirement already satisfied: tzdata>=2022.1 in /usr/local/lib/python3.10/dist-packages (from pandas>=0.24->catboost) (2024.1)\n",
            "Requirement already satisfied: contourpy>=1.0.1 in /usr/local/lib/python3.10/dist-packages (from matplotlib->catboost) (1.2.1)\n",
            "Requirement already satisfied: cycler>=0.10 in /usr/local/lib/python3.10/dist-packages (from matplotlib->catboost) (0.12.1)\n",
            "Requirement already satisfied: fonttools>=4.22.0 in /usr/local/lib/python3.10/dist-packages (from matplotlib->catboost) (4.51.0)\n",
            "Requirement already satisfied: kiwisolver>=1.0.1 in /usr/local/lib/python3.10/dist-packages (from matplotlib->catboost) (1.4.5)\n",
            "Requirement already satisfied: packaging>=20.0 in /usr/local/lib/python3.10/dist-packages (from matplotlib->catboost) (24.0)\n",
            "Requirement already satisfied: pillow>=6.2.0 in /usr/local/lib/python3.10/dist-packages (from matplotlib->catboost) (9.4.0)\n",
            "Requirement already satisfied: pyparsing>=2.3.1 in /usr/local/lib/python3.10/dist-packages (from matplotlib->catboost) (3.1.2)\n",
            "Requirement already satisfied: tenacity>=6.2.0 in /usr/local/lib/python3.10/dist-packages (from plotly->catboost) (8.2.3)\n"
          ]
        }
      ]
    },
    {
      "cell_type": "code",
      "source": [
        "from google.colab import output\n",
        "output.enable_custom_widget_manager()"
      ],
      "metadata": {
        "id": "joiZHZJbCVT8"
      },
      "id": "joiZHZJbCVT8",
      "execution_count": 41,
      "outputs": []
    },
    {
      "cell_type": "code",
      "execution_count": 42,
      "id": "b0ca5c1e",
      "metadata": {
        "scrolled": true,
        "colab": {
          "base_uri": "https://localhost:8080/",
          "height": 1000,
          "referenced_widgets": [
            "b3e565ff3f2346ba87a556b33b9253ba"
          ]
        },
        "id": "b0ca5c1e",
        "outputId": "967f2548-8ed5-4dbe-a9f5-78a1973ec39d"
      },
      "outputs": [
        {
          "output_type": "display_data",
          "data": {
            "text/plain": [
              "MetricVisualizer(layout=Layout(align_self='stretch', height='500px'))"
            ],
            "application/vnd.jupyter.widget-view+json": {
              "version_major": 2,
              "version_minor": 0,
              "model_id": "b3e565ff3f2346ba87a556b33b9253ba"
            }
          },
          "metadata": {}
        },
        {
          "output_type": "stream",
          "name": "stdout",
          "text": [
            "\n",
            "bestTest = 0.3353119675\n",
            "bestIteration = 999\n",
            "\n",
            "0:\tloss: 0.3353120\tbest: 0.3353120 (0)\ttotal: 38.2s\tremaining: 7m\n",
            "\n",
            "bestTest = 0.3179199981\n",
            "bestIteration = 872\n",
            "\n",
            "1:\tloss: 0.3179200\tbest: 0.3179200 (1)\ttotal: 1m 4s\tremaining: 5m 24s\n",
            "\n",
            "bestTest = 0.3381929955\n",
            "bestIteration = 999\n",
            "\n",
            "2:\tloss: 0.3381930\tbest: 0.3179200 (1)\ttotal: 1m 25s\tremaining: 4m 15s\n",
            "\n",
            "bestTest = 0.317435124\n",
            "bestIteration = 994\n",
            "\n",
            "3:\tloss: 0.3174351\tbest: 0.3174351 (3)\ttotal: 1m 45s\tremaining: 3m 30s\n",
            "\n",
            "bestTest = 0.3399413524\n",
            "bestIteration = 999\n",
            "\n",
            "4:\tloss: 0.3399414\tbest: 0.3174351 (3)\ttotal: 2m 4s\tremaining: 2m 54s\n",
            "\n",
            "bestTest = 0.3184462368\n",
            "bestIteration = 993\n",
            "\n",
            "5:\tloss: 0.3184462\tbest: 0.3174351 (3)\ttotal: 2m 24s\tremaining: 2m 24s\n",
            "\n",
            "bestTest = 0.3269484634\n",
            "bestIteration = 999\n",
            "\n",
            "6:\tloss: 0.3269485\tbest: 0.3174351 (3)\ttotal: 3m 13s\tremaining: 2m 18s\n",
            "\n",
            "bestTest = 0.3176138158\n",
            "bestIteration = 661\n",
            "\n",
            "7:\tloss: 0.3176138\tbest: 0.3174351 (3)\ttotal: 4m 2s\tremaining: 2m 1s\n",
            "\n",
            "bestTest = 0.3282866757\n",
            "bestIteration = 999\n",
            "\n",
            "8:\tloss: 0.3282867\tbest: 0.3174351 (3)\ttotal: 4m 51s\tremaining: 1m 37s\n",
            "\n",
            "bestTest = 0.31554691\n",
            "bestIteration = 706\n",
            "\n",
            "9:\tloss: 0.3155469\tbest: 0.3155469 (9)\ttotal: 5m 41s\tremaining: 1m 8s\n",
            "\n",
            "bestTest = 0.3293270305\n",
            "bestIteration = 999\n",
            "\n",
            "10:\tloss: 0.3293270\tbest: 0.3155469 (9)\ttotal: 6m 45s\tremaining: 36.9s\n",
            "\n",
            "bestTest = 0.315218598\n",
            "bestIteration = 921\n",
            "\n",
            "11:\tloss: 0.3152186\tbest: 0.3152186 (11)\ttotal: 7m 33s\tremaining: 0us\n",
            "Estimating final quality...\n",
            "Training on fold [0/3]\n",
            "\n",
            "bestTest = 0.3258944675\n",
            "bestIteration = 585\n",
            "\n",
            "Training on fold [1/3]\n",
            "\n",
            "bestTest = 0.3093897542\n",
            "bestIteration = 893\n",
            "\n",
            "Training on fold [2/3]\n",
            "\n",
            "bestTest = 0.3147848452\n",
            "bestIteration = 951\n",
            "\n"
          ]
        }
      ],
      "source": [
        "from catboost import CatBoostClassifier\n",
        "\n",
        "grid = {'learning_rate': [0.03, 0.1],\n",
        "        'depth': [4, 6],\n",
        "        'l2_leaf_reg': [3, 5, 7]}\n",
        "\n",
        "cls = CatBoostClassifier(verbose=0)\n",
        "\n",
        "X_full = np.concatenate((X_train_tfidf, X_val_tfidf), axis=0)\n",
        "y_full = y_train + y_val\n",
        "\n",
        "grid_search_result = cls.grid_search(grid, X=X_full, y=y_full, plot=True)"
      ]
    },
    {
      "cell_type": "code",
      "source": [
        "grid_search_result['params']"
      ],
      "metadata": {
        "colab": {
          "base_uri": "https://localhost:8080/"
        },
        "id": "SQ-Lbguh-JTN",
        "outputId": "0b96f940-5e2f-460d-e74d-203adb5bde8d"
      },
      "id": "SQ-Lbguh-JTN",
      "execution_count": 43,
      "outputs": [
        {
          "output_type": "execute_result",
          "data": {
            "text/plain": [
              "{'depth': 6, 'learning_rate': 0.1, 'l2_leaf_reg': 7}"
            ]
          },
          "metadata": {},
          "execution_count": 43
        }
      ]
    },
    {
      "cell_type": "code",
      "execution_count": 44,
      "id": "a07f59ff",
      "metadata": {
        "scrolled": false,
        "colab": {
          "base_uri": "https://localhost:8080/"
        },
        "id": "a07f59ff",
        "outputId": "e9c847e5-cdf6-48c6-df09-9a34bb84e5db"
      },
      "outputs": [
        {
          "output_type": "stream",
          "name": "stdout",
          "text": [
            "Roc-auc score: 0.9346984605099874\n"
          ]
        }
      ],
      "source": [
        "from sklearn.metrics import roc_auc_score\n",
        "\n",
        "best_cls = CatBoostClassifier(**grid_search_result['params'], verbose=0)\n",
        "best_cls.fit(X_full, y_full)\n",
        "\n",
        "y_pred = best_cls.predict_proba(X_test_tfidf)[:, 1]\n",
        "score = roc_auc_score(y_test, y_pred)\n",
        "print(f\"Roc-auc score: {score}\")"
      ]
    },
    {
      "cell_type": "markdown",
      "id": "1bb99b0f",
      "metadata": {
        "id": "1bb99b0f"
      },
      "source": [
        "# Catboost + BertEmbeddings"
      ]
    },
    {
      "cell_type": "code",
      "execution_count": 46,
      "id": "c09ab35f",
      "metadata": {
        "colab": {
          "base_uri": "https://localhost:8080/",
          "height": 1000,
          "referenced_widgets": [
            "795cf1aeca02499d81160c8960dc76d0"
          ]
        },
        "id": "c09ab35f",
        "outputId": "5e0b62db-2af8-4067-e635-36d3e1e0a808"
      },
      "outputs": [
        {
          "output_type": "display_data",
          "data": {
            "text/plain": [
              "MetricVisualizer(layout=Layout(align_self='stretch', height='500px'))"
            ],
            "application/vnd.jupyter.widget-view+json": {
              "version_major": 2,
              "version_minor": 0,
              "model_id": "795cf1aeca02499d81160c8960dc76d0"
            }
          },
          "metadata": {}
        },
        {
          "output_type": "stream",
          "name": "stdout",
          "text": [
            "\n",
            "bestTest = 0.2492868777\n",
            "bestIteration = 999\n",
            "\n",
            "0:\tloss: 0.2492869\tbest: 0.2492869 (0)\ttotal: 20.5s\tremaining: 3m 45s\n",
            "\n",
            "bestTest = 0.23726177\n",
            "bestIteration = 783\n",
            "\n",
            "1:\tloss: 0.2372618\tbest: 0.2372618 (1)\ttotal: 35.5s\tremaining: 2m 57s\n",
            "\n",
            "bestTest = 0.255036699\n",
            "bestIteration = 998\n",
            "\n",
            "2:\tloss: 0.2550367\tbest: 0.2372618 (1)\ttotal: 52.1s\tremaining: 2m 36s\n",
            "\n",
            "bestTest = 0.2348937709\n",
            "bestIteration = 776\n",
            "\n",
            "3:\tloss: 0.2348938\tbest: 0.2348938 (3)\ttotal: 1m 7s\tremaining: 2m 15s\n",
            "\n",
            "bestTest = 0.2555896889\n",
            "bestIteration = 999\n",
            "\n",
            "4:\tloss: 0.2555897\tbest: 0.2348938 (3)\ttotal: 1m 23s\tremaining: 1m 56s\n",
            "\n",
            "bestTest = 0.2336455071\n",
            "bestIteration = 847\n",
            "\n",
            "5:\tloss: 0.2336455\tbest: 0.2336455 (5)\ttotal: 1m 41s\tremaining: 1m 41s\n",
            "\n",
            "bestTest = 0.2329761411\n",
            "bestIteration = 997\n",
            "\n",
            "6:\tloss: 0.2329761\tbest: 0.2329761 (6)\ttotal: 2m 19s\tremaining: 1m 39s\n",
            "\n",
            "bestTest = 0.2341894059\n",
            "bestIteration = 635\n",
            "\n",
            "7:\tloss: 0.2341894\tbest: 0.2329761 (6)\ttotal: 2m 55s\tremaining: 1m 27s\n",
            "\n",
            "bestTest = 0.2342060652\n",
            "bestIteration = 998\n",
            "\n",
            "8:\tloss: 0.2342061\tbest: 0.2329761 (6)\ttotal: 3m 32s\tremaining: 1m 10s\n",
            "\n",
            "bestTest = 0.231734761\n",
            "bestIteration = 501\n",
            "\n",
            "9:\tloss: 0.2317348\tbest: 0.2317348 (9)\ttotal: 4m 9s\tremaining: 49.9s\n",
            "\n",
            "bestTest = 0.2381642897\n",
            "bestIteration = 999\n",
            "\n",
            "10:\tloss: 0.2381643\tbest: 0.2317348 (9)\ttotal: 4m 45s\tremaining: 25.9s\n",
            "\n",
            "bestTest = 0.2288031826\n",
            "bestIteration = 399\n",
            "\n",
            "11:\tloss: 0.2288032\tbest: 0.2288032 (11)\ttotal: 5m 21s\tremaining: 0us\n",
            "Estimating final quality...\n",
            "Training on fold [0/3]\n",
            "\n",
            "bestTest = 0.2357071876\n",
            "bestIteration = 478\n",
            "\n",
            "Training on fold [1/3]\n",
            "\n",
            "bestTest = 0.2304300507\n",
            "bestIteration = 501\n",
            "\n",
            "Training on fold [2/3]\n",
            "\n",
            "bestTest = 0.2314810241\n",
            "bestIteration = 609\n",
            "\n"
          ]
        }
      ],
      "source": [
        "from catboost import CatBoostClassifier\n",
        "\n",
        "\n",
        "X_full = np.concatenate((X_train_embs, X_val_embs), axis=0)\n",
        "y_full = y_train + y_val\n",
        "\n",
        "grid = {'learning_rate': [0.03, 0.1],\n",
        "        'depth': [4, 6],\n",
        "        'l2_leaf_reg': [3, 5, 7]}\n",
        "\n",
        "cls = CatBoostClassifier(verbose=0)\n",
        "\n",
        "grid_search_result = cls.grid_search(grid, X=X_full, y=y_full, plot=True)"
      ]
    },
    {
      "cell_type": "code",
      "source": [
        "grid_search_result['params']"
      ],
      "metadata": {
        "colab": {
          "base_uri": "https://localhost:8080/"
        },
        "id": "lSnEwQ4r-K3F",
        "outputId": "5ebec945-94b4-4e6b-9917-c4dbb71c899f"
      },
      "id": "lSnEwQ4r-K3F",
      "execution_count": 47,
      "outputs": [
        {
          "output_type": "execute_result",
          "data": {
            "text/plain": [
              "{'depth': 6, 'learning_rate': 0.1, 'l2_leaf_reg': 7}"
            ]
          },
          "metadata": {},
          "execution_count": 47
        }
      ]
    },
    {
      "cell_type": "code",
      "execution_count": 48,
      "id": "44fea20f",
      "metadata": {
        "colab": {
          "base_uri": "https://localhost:8080/"
        },
        "id": "44fea20f",
        "outputId": "90883540-0636-4258-8694-63cf451309eb"
      },
      "outputs": [
        {
          "output_type": "stream",
          "name": "stdout",
          "text": [
            "Roc-auc score: 0.975618658296226\n"
          ]
        }
      ],
      "source": [
        "from sklearn.metrics import roc_auc_score\n",
        "\n",
        "best_cls = CatBoostClassifier(**grid_search_result['params'], verbose=0)\n",
        "best_cls.fit(X_full, y_full)\n",
        "\n",
        "y_pred = best_cls.predict_proba(X_test_embs)[:, 1]\n",
        "score = roc_auc_score(y_test, y_pred)\n",
        "print(f\"Roc-auc score: {score}\")"
      ]
    },
    {
      "cell_type": "markdown",
      "id": "ff7ed6df",
      "metadata": {
        "id": "ff7ed6df"
      },
      "source": [
        "# NN + TFIDF"
      ]
    },
    {
      "cell_type": "code",
      "execution_count": 49,
      "id": "11c90248",
      "metadata": {
        "id": "11c90248"
      },
      "outputs": [],
      "source": [
        "import torch.nn as nn\n",
        "import torch.nn.functional as F\n",
        "import torch.optim as optim\n",
        "import torch\n",
        "from tqdm import tqdm"
      ]
    },
    {
      "cell_type": "code",
      "execution_count": 50,
      "id": "0ca74a85",
      "metadata": {
        "id": "0ca74a85"
      },
      "outputs": [],
      "source": [
        "X_train_tfidf_tensor = torch.tensor(X_train_tfidf)\n",
        "X_val_tfidf_tensor = torch.tensor(X_val_tfidf)\n",
        "X_test_tfidf_tensor = torch.tensor(X_test_tfidf)\n",
        "\n",
        "y_train_tensor = torch.tensor(y_train)\n",
        "y_val_tensor = torch.tensor(y_val)\n",
        "y_test_tensor = torch.tensor(y_test)"
      ]
    },
    {
      "cell_type": "code",
      "execution_count": 51,
      "id": "05326643",
      "metadata": {
        "id": "05326643"
      },
      "outputs": [],
      "source": [
        "class SpamDetectionNN(nn.Module):\n",
        "    def __init__(self, n_features, hidden_size):\n",
        "        super().__init__()\n",
        "\n",
        "        self.in_fc = nn.Linear(n_features, hidden_size * 4)\n",
        "        self.fc1 = nn.Linear(hidden_size * 4, hidden_size * 2)\n",
        "        self.fc2 = nn.Linear(hidden_size * 2, hidden_size)\n",
        "        self.out = nn.Linear(hidden_size, 1)\n",
        "        self.relu = nn.ReLU()\n",
        "        self.dr = nn.Dropout(0.25)\n",
        "\n",
        "    def forward(self, x):\n",
        "        x = self.relu(self.in_fc(x))\n",
        "        x = self.relu(self.fc1(x))\n",
        "        x = self.dr(x)\n",
        "        x = self.relu(self.fc2(x))\n",
        "        x = torch.sigmoid(self.out(x))\n",
        "        return x"
      ]
    },
    {
      "cell_type": "code",
      "execution_count": 52,
      "id": "4c93510f",
      "metadata": {
        "id": "4c93510f"
      },
      "outputs": [],
      "source": [
        "device = torch.device('cuda:0' if torch.cuda.is_available() else 'cpu')"
      ]
    },
    {
      "cell_type": "code",
      "execution_count": 53,
      "id": "c8d207ef",
      "metadata": {
        "id": "c8d207ef"
      },
      "outputs": [],
      "source": [
        "model = SpamDetectionNN(X_train_tfidf_tensor.shape[1], 100).to(device)\n",
        "loss_fn = nn.BCELoss()\n",
        "optimizer = optim.AdamW(model.parameters(), lr=1e-4)\n",
        "n_epochs = 20\n",
        "batch_size = 16"
      ]
    },
    {
      "cell_type": "code",
      "execution_count": 56,
      "id": "9bf225cd",
      "metadata": {
        "scrolled": true,
        "colab": {
          "base_uri": "https://localhost:8080/"
        },
        "id": "9bf225cd",
        "outputId": "f44514d5-87ab-413b-9d1c-308993668d9e"
      },
      "outputs": [
        {
          "output_type": "stream",
          "name": "stderr",
          "text": [
            "421it [00:01, 268.65it/s]                         \n"
          ]
        },
        {
          "output_type": "stream",
          "name": "stdout",
          "text": [
            "Epoch 0, loss 0.3248\n"
          ]
        },
        {
          "output_type": "stream",
          "name": "stderr",
          "text": [
            "91it [00:00, 525.63it/s]                        \n"
          ]
        },
        {
          "output_type": "stream",
          "name": "stdout",
          "text": [
            "Val roc auc score: 0.930485705833311\n"
          ]
        },
        {
          "output_type": "stream",
          "name": "stderr",
          "text": [
            "421it [00:01, 254.88it/s]                         \n"
          ]
        },
        {
          "output_type": "stream",
          "name": "stdout",
          "text": [
            "Epoch 1, loss 0.3115\n"
          ]
        },
        {
          "output_type": "stream",
          "name": "stderr",
          "text": [
            "91it [00:00, 1232.97it/s]             \n"
          ]
        },
        {
          "output_type": "stream",
          "name": "stdout",
          "text": [
            "Val roc auc score: 0.9323836545886945\n"
          ]
        },
        {
          "output_type": "stream",
          "name": "stderr",
          "text": [
            "421it [00:01, 285.69it/s]                         \n"
          ]
        },
        {
          "output_type": "stream",
          "name": "stdout",
          "text": [
            "Epoch 2, loss 0.2983\n"
          ]
        },
        {
          "output_type": "stream",
          "name": "stderr",
          "text": [
            "91it [00:00, 1081.35it/s]             \n"
          ]
        },
        {
          "output_type": "stream",
          "name": "stdout",
          "text": [
            "Val roc auc score: 0.93335952297709\n"
          ]
        },
        {
          "output_type": "stream",
          "name": "stderr",
          "text": [
            "421it [00:01, 254.89it/s]                         \n"
          ]
        },
        {
          "output_type": "stream",
          "name": "stdout",
          "text": [
            "Epoch 3, loss 0.2866\n"
          ]
        },
        {
          "output_type": "stream",
          "name": "stderr",
          "text": [
            "91it [00:00, 673.30it/s]                        \n"
          ]
        },
        {
          "output_type": "stream",
          "name": "stdout",
          "text": [
            "Val roc auc score: 0.934016505238569\n"
          ]
        },
        {
          "output_type": "stream",
          "name": "stderr",
          "text": [
            "421it [00:02, 205.11it/s]                         \n"
          ]
        },
        {
          "output_type": "stream",
          "name": "stdout",
          "text": [
            "Epoch 4, loss 0.2744\n"
          ]
        },
        {
          "output_type": "stream",
          "name": "stderr",
          "text": [
            "91it [00:00, 1063.04it/s]             \n"
          ]
        },
        {
          "output_type": "stream",
          "name": "stdout",
          "text": [
            "Val roc auc score: 0.9359759260184185\n"
          ]
        },
        {
          "output_type": "stream",
          "name": "stderr",
          "text": [
            "421it [00:01, 258.50it/s]                         \n"
          ]
        },
        {
          "output_type": "stream",
          "name": "stdout",
          "text": [
            "Epoch 5, loss 0.2615\n"
          ]
        },
        {
          "output_type": "stream",
          "name": "stderr",
          "text": [
            "91it [00:00, 1095.46it/s]             \n"
          ]
        },
        {
          "output_type": "stream",
          "name": "stdout",
          "text": [
            "Val roc auc score: 0.9360835020612338\n"
          ]
        },
        {
          "output_type": "stream",
          "name": "stderr",
          "text": [
            "421it [00:01, 268.60it/s]                         \n"
          ]
        },
        {
          "output_type": "stream",
          "name": "stdout",
          "text": [
            "Epoch 6, loss 0.2470\n"
          ]
        },
        {
          "output_type": "stream",
          "name": "stderr",
          "text": [
            "91it [00:00, 707.46it/s]                        \n"
          ]
        },
        {
          "output_type": "stream",
          "name": "stdout",
          "text": [
            "Val roc auc score: 0.9367654573326522\n"
          ]
        },
        {
          "output_type": "stream",
          "name": "stderr",
          "text": [
            "421it [00:02, 171.02it/s]                         \n"
          ]
        },
        {
          "output_type": "stream",
          "name": "stdout",
          "text": [
            "Epoch 7, loss 0.2308\n"
          ]
        },
        {
          "output_type": "stream",
          "name": "stderr",
          "text": [
            "91it [00:00, 586.22it/s]                        \n"
          ]
        },
        {
          "output_type": "stream",
          "name": "stdout",
          "text": [
            "Val roc auc score: 0.9370401604419838\n"
          ]
        },
        {
          "output_type": "stream",
          "name": "stderr",
          "text": [
            "421it [00:02, 190.73it/s]                         \n"
          ]
        },
        {
          "output_type": "stream",
          "name": "stdout",
          "text": [
            "Epoch 8, loss 0.2179\n"
          ]
        },
        {
          "output_type": "stream",
          "name": "stderr",
          "text": [
            "91it [00:00, 522.83it/s]                        \n"
          ]
        },
        {
          "output_type": "stream",
          "name": "stdout",
          "text": [
            "Val roc auc score: 0.9376913797011691\n"
          ]
        },
        {
          "output_type": "stream",
          "name": "stderr",
          "text": [
            "421it [00:01, 247.23it/s]                         \n"
          ]
        },
        {
          "output_type": "stream",
          "name": "stdout",
          "text": [
            "Epoch 9, loss 0.2057\n"
          ]
        },
        {
          "output_type": "stream",
          "name": "stderr",
          "text": [
            "91it [00:00, 865.71it/s]              \n"
          ]
        },
        {
          "output_type": "stream",
          "name": "stdout",
          "text": [
            "Val roc auc score: 0.9382254179137163\n"
          ]
        },
        {
          "output_type": "stream",
          "name": "stderr",
          "text": [
            "421it [00:02, 198.86it/s]                         \n"
          ]
        },
        {
          "output_type": "stream",
          "name": "stdout",
          "text": [
            "Epoch 10, loss 0.1939\n"
          ]
        },
        {
          "output_type": "stream",
          "name": "stderr",
          "text": [
            "91it [00:00, 678.12it/s]                        \n"
          ]
        },
        {
          "output_type": "stream",
          "name": "stdout",
          "text": [
            "Val roc auc score: 0.9379545568059136\n"
          ]
        },
        {
          "output_type": "stream",
          "name": "stderr",
          "text": [
            "421it [00:01, 272.21it/s]                         \n"
          ]
        },
        {
          "output_type": "stream",
          "name": "stdout",
          "text": [
            "Epoch 11, loss 0.1854\n"
          ]
        },
        {
          "output_type": "stream",
          "name": "stderr",
          "text": [
            "91it [00:00, 1766.50it/s]             \n"
          ]
        },
        {
          "output_type": "stream",
          "name": "stdout",
          "text": [
            "Val roc auc score: 0.9379929768212049\n"
          ]
        },
        {
          "output_type": "stream",
          "name": "stderr",
          "text": [
            "421it [00:01, 332.03it/s]                         \n"
          ]
        },
        {
          "output_type": "stream",
          "name": "stdout",
          "text": [
            "Epoch 12, loss 0.1764\n"
          ]
        },
        {
          "output_type": "stream",
          "name": "stderr",
          "text": [
            "91it [00:00, 1740.76it/s]             \n"
          ]
        },
        {
          "output_type": "stream",
          "name": "stdout",
          "text": [
            "Val roc auc score: 0.9385241335326051\n"
          ]
        },
        {
          "output_type": "stream",
          "name": "stderr",
          "text": [
            "421it [00:01, 336.74it/s]                         \n"
          ]
        },
        {
          "output_type": "stream",
          "name": "stdout",
          "text": [
            "Epoch 13, loss 0.1686\n"
          ]
        },
        {
          "output_type": "stream",
          "name": "stderr",
          "text": [
            "91it [00:00, 1114.20it/s]             \n"
          ]
        },
        {
          "output_type": "stream",
          "name": "stdout",
          "text": [
            "Val roc auc score: 0.9386816555952988\n"
          ]
        },
        {
          "output_type": "stream",
          "name": "stderr",
          "text": [
            "421it [00:01, 340.49it/s]                         \n"
          ]
        },
        {
          "output_type": "stream",
          "name": "stdout",
          "text": [
            "Epoch 14, loss 0.1621\n"
          ]
        },
        {
          "output_type": "stream",
          "name": "stderr",
          "text": [
            "91it [00:00, 1630.19it/s]             \n"
          ]
        },
        {
          "output_type": "stream",
          "name": "stdout",
          "text": [
            "Val roc auc score: 0.9378998082841237\n"
          ]
        },
        {
          "output_type": "stream",
          "name": "stderr",
          "text": [
            "421it [00:01, 340.05it/s]                         \n"
          ]
        },
        {
          "output_type": "stream",
          "name": "stdout",
          "text": [
            "Epoch 15, loss 0.1596\n"
          ]
        },
        {
          "output_type": "stream",
          "name": "stderr",
          "text": [
            "91it [00:00, 1439.73it/s]             \n"
          ]
        },
        {
          "output_type": "stream",
          "name": "stdout",
          "text": [
            "Val roc auc score: 0.9379776088150883\n"
          ]
        },
        {
          "output_type": "stream",
          "name": "stderr",
          "text": [
            "421it [00:01, 279.86it/s]                         \n"
          ]
        },
        {
          "output_type": "stream",
          "name": "stdout",
          "text": [
            "Epoch 16, loss 0.1569\n"
          ]
        },
        {
          "output_type": "stream",
          "name": "stderr",
          "text": [
            "91it [00:00, 904.03it/s]              \n"
          ]
        },
        {
          "output_type": "stream",
          "name": "stdout",
          "text": [
            "Val roc auc score: 0.9370497654458068\n"
          ]
        },
        {
          "output_type": "stream",
          "name": "stderr",
          "text": [
            "421it [00:01, 310.05it/s]                         \n"
          ]
        },
        {
          "output_type": "stream",
          "name": "stdout",
          "text": [
            "Epoch 17, loss 0.1526\n"
          ]
        },
        {
          "output_type": "stream",
          "name": "stderr",
          "text": [
            "91it [00:00, 2599.92it/s]             \n"
          ]
        },
        {
          "output_type": "stream",
          "name": "stdout",
          "text": [
            "Val roc auc score: 0.9375300156369463\n"
          ]
        },
        {
          "output_type": "stream",
          "name": "stderr",
          "text": [
            "421it [00:01, 400.79it/s]                         \n"
          ]
        },
        {
          "output_type": "stream",
          "name": "stdout",
          "text": [
            "Epoch 18, loss 0.1501\n"
          ]
        },
        {
          "output_type": "stream",
          "name": "stderr",
          "text": [
            "91it [00:00, 1444.27it/s]             \n"
          ]
        },
        {
          "output_type": "stream",
          "name": "stdout",
          "text": [
            "Val roc auc score: 0.938802678643466\n"
          ]
        },
        {
          "output_type": "stream",
          "name": "stderr",
          "text": [
            "421it [00:01, 373.28it/s]                         \n"
          ]
        },
        {
          "output_type": "stream",
          "name": "stdout",
          "text": [
            "Epoch 19, loss 0.1500\n"
          ]
        },
        {
          "output_type": "stream",
          "name": "stderr",
          "text": [
            "91it [00:00, 1662.21it/s]             "
          ]
        },
        {
          "output_type": "stream",
          "name": "stdout",
          "text": [
            "Val roc auc score: 0.9386057760650989\n"
          ]
        },
        {
          "output_type": "stream",
          "name": "stderr",
          "text": [
            "\n"
          ]
        }
      ],
      "source": [
        "for epoch in range(n_epochs):\n",
        "    total_loss = 0\n",
        "    acc = 0\n",
        "    # Train\n",
        "    model.train()\n",
        "    for idx in tqdm(range(0, len(X_train_tfidf_tensor), batch_size), total=len(X_train_tfidf_tensor) // batch_size):\n",
        "        end_idx = end_idx = min(idx + batch_size, len(X_train_tfidf_tensor))\n",
        "\n",
        "        X_batch = X_train_tfidf_tensor[idx:end_idx].float().to(device)\n",
        "        target = y_train_tensor[idx:end_idx].to(device)\n",
        "\n",
        "        optimizer.zero_grad()\n",
        "        pred = model(X_batch)\n",
        "        loss = loss_fn(pred.squeeze(), target.float())\n",
        "        loss.backward()\n",
        "        optimizer.step()\n",
        "\n",
        "        total_loss += loss.detach().cpu().item() * (end_idx-idx)\n",
        "        acc += torch.sum((pred > 0.5) == target).detach().cpu()\n",
        "\n",
        "    total_loss /= len(X_train_tfidf_tensor)\n",
        "    print(f\"Epoch {epoch}, loss {total_loss:.4f}\")\n",
        "\n",
        "    # Eval\n",
        "    pred_total = []\n",
        "    model.eval()\n",
        "    for idx in tqdm(range(0, len(X_val_tfidf_tensor), batch_size), total=len(X_val_tfidf_tensor) // batch_size):\n",
        "        end_idx = end_idx = min(idx + batch_size, len(X_val_tfidf_tensor))\n",
        "\n",
        "        X_batch = X_val_tfidf_tensor[idx:end_idx].float().to(device)\n",
        "        with torch.no_grad():\n",
        "            pred = model(X_batch)\n",
        "        pred_total += pred.squeeze().detach().cpu().tolist()\n",
        "    print(f\"Val roc auc score: {roc_auc_score(y_val, pred_total)}\")"
      ]
    },
    {
      "cell_type": "markdown",
      "id": "3e8e24ab",
      "metadata": {
        "id": "3e8e24ab"
      },
      "source": [
        "# NN + BertEmbeddings"
      ]
    },
    {
      "cell_type": "code",
      "execution_count": 57,
      "id": "c8c377c2",
      "metadata": {
        "id": "c8c377c2"
      },
      "outputs": [],
      "source": [
        "import torch.nn as nn\n",
        "import torch.nn.functional as F\n",
        "import torch.optim as optim\n",
        "import torch\n",
        "from tqdm import tqdm"
      ]
    },
    {
      "cell_type": "code",
      "execution_count": 58,
      "id": "84f093e0",
      "metadata": {
        "id": "84f093e0"
      },
      "outputs": [],
      "source": [
        "X_train_embs_tensor = torch.tensor(X_train_embs)\n",
        "X_val_embs_tensor = torch.tensor(X_val_embs)\n",
        "X_test_embs_tensor = torch.tensor(X_test_embs)\n",
        "\n",
        "y_train_tensor = torch.tensor(y_train)\n",
        "y_val_tensor = torch.tensor(y_val)\n",
        "y_test_tensor = torch.tensor(y_test)"
      ]
    },
    {
      "cell_type": "code",
      "execution_count": 59,
      "id": "bc280055",
      "metadata": {
        "id": "bc280055"
      },
      "outputs": [],
      "source": [
        "class SpamDetectionNN(nn.Module):\n",
        "    def __init__(self, n_features, hidden_size):\n",
        "        super().__init__()\n",
        "\n",
        "        self.in_fc = nn.Linear(n_features, hidden_size * 4)\n",
        "        self.fc1 = nn.Linear(hidden_size * 4, hidden_size * 2)\n",
        "        self.fc2 = nn.Linear(hidden_size * 2, hidden_size)\n",
        "        self.out = nn.Linear(hidden_size, 1)\n",
        "        self.relu = nn.ReLU()\n",
        "        self.dr = nn.Dropout(0.25)\n",
        "\n",
        "    def forward(self, x):\n",
        "        x = self.relu(self.in_fc(x))\n",
        "        x = self.relu(self.fc1(x))\n",
        "        x = self.dr(x)\n",
        "        x = self.relu(self.fc2(x))\n",
        "        x = torch.sigmoid(self.out(x))\n",
        "        return x"
      ]
    },
    {
      "cell_type": "code",
      "execution_count": 60,
      "id": "59ed9c2a",
      "metadata": {
        "id": "59ed9c2a"
      },
      "outputs": [],
      "source": [
        "device = torch.device('cuda:0' if torch.cuda.is_available() else 'cpu')"
      ]
    },
    {
      "cell_type": "code",
      "execution_count": 61,
      "id": "5eba393f",
      "metadata": {
        "id": "5eba393f"
      },
      "outputs": [],
      "source": [
        "model = SpamDetectionNN(X_train_embs_tensor.shape[1], 100).to(device)\n",
        "loss_fn = nn.BCELoss()\n",
        "optimizer = optim.AdamW(model.parameters(), lr=1e-4)\n",
        "n_epochs = 20\n",
        "batch_size = 16"
      ]
    },
    {
      "cell_type": "code",
      "execution_count": 62,
      "id": "9470d739",
      "metadata": {
        "colab": {
          "base_uri": "https://localhost:8080/"
        },
        "id": "9470d739",
        "outputId": "62448029-5afc-4e47-ddd9-aceeafd7a10d"
      },
      "outputs": [
        {
          "output_type": "stream",
          "name": "stderr",
          "text": [
            "421it [00:00, 456.54it/s]\n"
          ]
        },
        {
          "output_type": "stream",
          "name": "stdout",
          "text": [
            "Epoch 0, loss 0.4436\n"
          ]
        },
        {
          "output_type": "stream",
          "name": "stderr",
          "text": [
            "91it [00:00, 2700.37it/s]             \n"
          ]
        },
        {
          "output_type": "stream",
          "name": "stdout",
          "text": [
            "Val roc auc score: 0.9299968111387309\n"
          ]
        },
        {
          "output_type": "stream",
          "name": "stderr",
          "text": [
            "421it [00:00, 439.17it/s]                         \n"
          ]
        },
        {
          "output_type": "stream",
          "name": "stdout",
          "text": [
            "Epoch 1, loss 0.3094\n"
          ]
        },
        {
          "output_type": "stream",
          "name": "stderr",
          "text": [
            "91it [00:00, 2879.25it/s]             \n"
          ]
        },
        {
          "output_type": "stream",
          "name": "stdout",
          "text": [
            "Val roc auc score: 0.941630391768896\n"
          ]
        },
        {
          "output_type": "stream",
          "name": "stderr",
          "text": [
            "421it [00:00, 453.59it/s]                         \n"
          ]
        },
        {
          "output_type": "stream",
          "name": "stdout",
          "text": [
            "Epoch 2, loss 0.2803\n"
          ]
        },
        {
          "output_type": "stream",
          "name": "stderr",
          "text": [
            "91it [00:00, 2793.11it/s]             \n"
          ]
        },
        {
          "output_type": "stream",
          "name": "stdout",
          "text": [
            "Val roc auc score: 0.9481656363699232\n"
          ]
        },
        {
          "output_type": "stream",
          "name": "stderr",
          "text": [
            "421it [00:00, 448.22it/s]                         \n"
          ]
        },
        {
          "output_type": "stream",
          "name": "stdout",
          "text": [
            "Epoch 3, loss 0.2631\n"
          ]
        },
        {
          "output_type": "stream",
          "name": "stderr",
          "text": [
            "91it [00:00, 2568.00it/s]             \n"
          ]
        },
        {
          "output_type": "stream",
          "name": "stdout",
          "text": [
            "Val roc auc score: 0.952193974973202\n"
          ]
        },
        {
          "output_type": "stream",
          "name": "stderr",
          "text": [
            "421it [00:00, 443.13it/s]                         \n"
          ]
        },
        {
          "output_type": "stream",
          "name": "stdout",
          "text": [
            "Epoch 4, loss 0.2472\n"
          ]
        },
        {
          "output_type": "stream",
          "name": "stderr",
          "text": [
            "91it [00:00, 2630.18it/s]             \n"
          ]
        },
        {
          "output_type": "stream",
          "name": "stdout",
          "text": [
            "Val roc auc score: 0.955803535409807\n"
          ]
        },
        {
          "output_type": "stream",
          "name": "stderr",
          "text": [
            "421it [00:00, 468.62it/s]                         \n"
          ]
        },
        {
          "output_type": "stream",
          "name": "stdout",
          "text": [
            "Epoch 5, loss 0.2347\n"
          ]
        },
        {
          "output_type": "stream",
          "name": "stderr",
          "text": [
            "91it [00:00, 2719.17it/s]             \n"
          ]
        },
        {
          "output_type": "stream",
          "name": "stdout",
          "text": [
            "Val roc auc score: 0.958652379543647\n"
          ]
        },
        {
          "output_type": "stream",
          "name": "stderr",
          "text": [
            "421it [00:00, 431.80it/s]                         \n"
          ]
        },
        {
          "output_type": "stream",
          "name": "stdout",
          "text": [
            "Epoch 6, loss 0.2230\n"
          ]
        },
        {
          "output_type": "stream",
          "name": "stderr",
          "text": [
            "91it [00:00, 2892.27it/s]             \n"
          ]
        },
        {
          "output_type": "stream",
          "name": "stdout",
          "text": [
            "Val roc auc score: 0.9617586377799378\n"
          ]
        },
        {
          "output_type": "stream",
          "name": "stderr",
          "text": [
            "421it [00:00, 451.37it/s]                         \n"
          ]
        },
        {
          "output_type": "stream",
          "name": "stdout",
          "text": [
            "Epoch 7, loss 0.2121\n"
          ]
        },
        {
          "output_type": "stream",
          "name": "stderr",
          "text": [
            "91it [00:00, 2725.67it/s]             \n"
          ]
        },
        {
          "output_type": "stream",
          "name": "stdout",
          "text": [
            "Val roc auc score: 0.9636700335406734\n"
          ]
        },
        {
          "output_type": "stream",
          "name": "stderr",
          "text": [
            "421it [00:00, 443.01it/s]                         \n"
          ]
        },
        {
          "output_type": "stream",
          "name": "stdout",
          "text": [
            "Epoch 8, loss 0.2025\n"
          ]
        },
        {
          "output_type": "stream",
          "name": "stderr",
          "text": [
            "91it [00:00, 2515.33it/s]             \n"
          ]
        },
        {
          "output_type": "stream",
          "name": "stdout",
          "text": [
            "Val roc auc score: 0.964480695863317\n"
          ]
        },
        {
          "output_type": "stream",
          "name": "stderr",
          "text": [
            "421it [00:00, 450.20it/s]                         \n"
          ]
        },
        {
          "output_type": "stream",
          "name": "stdout",
          "text": [
            "Epoch 9, loss 0.1898\n"
          ]
        },
        {
          "output_type": "stream",
          "name": "stderr",
          "text": [
            "91it [00:00, 2629.37it/s]             \n"
          ]
        },
        {
          "output_type": "stream",
          "name": "stdout",
          "text": [
            "Val roc auc score: 0.9661135465131915\n"
          ]
        },
        {
          "output_type": "stream",
          "name": "stderr",
          "text": [
            "421it [00:01, 351.72it/s]                         \n"
          ]
        },
        {
          "output_type": "stream",
          "name": "stdout",
          "text": [
            "Epoch 10, loss 0.1840\n"
          ]
        },
        {
          "output_type": "stream",
          "name": "stderr",
          "text": [
            "91it [00:00, 1895.78it/s]             \n"
          ]
        },
        {
          "output_type": "stream",
          "name": "stdout",
          "text": [
            "Val roc auc score: 0.9671873859405796\n"
          ]
        },
        {
          "output_type": "stream",
          "name": "stderr",
          "text": [
            "421it [00:01, 361.04it/s]                         \n"
          ]
        },
        {
          "output_type": "stream",
          "name": "stdout",
          "text": [
            "Epoch 11, loss 0.1740\n"
          ]
        },
        {
          "output_type": "stream",
          "name": "stderr",
          "text": [
            "91it [00:00, 2596.46it/s]             \n"
          ]
        },
        {
          "output_type": "stream",
          "name": "stdout",
          "text": [
            "Val roc auc score: 0.9688663406088036\n"
          ]
        },
        {
          "output_type": "stream",
          "name": "stderr",
          "text": [
            "421it [00:00, 467.78it/s]                         \n"
          ]
        },
        {
          "output_type": "stream",
          "name": "stdout",
          "text": [
            "Epoch 12, loss 0.1642\n"
          ]
        },
        {
          "output_type": "stream",
          "name": "stderr",
          "text": [
            "91it [00:00, 2822.88it/s]             \n"
          ]
        },
        {
          "output_type": "stream",
          "name": "stdout",
          "text": [
            "Val roc auc score: 0.9695021918618724\n"
          ]
        },
        {
          "output_type": "stream",
          "name": "stderr",
          "text": [
            "421it [00:00, 461.80it/s]                         \n"
          ]
        },
        {
          "output_type": "stream",
          "name": "stdout",
          "text": [
            "Epoch 13, loss 0.1565\n"
          ]
        },
        {
          "output_type": "stream",
          "name": "stderr",
          "text": [
            "91it [00:00, 2603.31it/s]             \n"
          ]
        },
        {
          "output_type": "stream",
          "name": "stdout",
          "text": [
            "Val roc auc score: 0.9699478640392499\n"
          ]
        },
        {
          "output_type": "stream",
          "name": "stderr",
          "text": [
            "421it [00:00, 461.01it/s]                         \n"
          ]
        },
        {
          "output_type": "stream",
          "name": "stdout",
          "text": [
            "Epoch 14, loss 0.1507\n"
          ]
        },
        {
          "output_type": "stream",
          "name": "stderr",
          "text": [
            "91it [00:00, 2725.83it/s]             \n"
          ]
        },
        {
          "output_type": "stream",
          "name": "stdout",
          "text": [
            "Val roc auc score: 0.9707489213580708\n"
          ]
        },
        {
          "output_type": "stream",
          "name": "stderr",
          "text": [
            "421it [00:00, 463.67it/s]                         \n"
          ]
        },
        {
          "output_type": "stream",
          "name": "stdout",
          "text": [
            "Epoch 15, loss 0.1432\n"
          ]
        },
        {
          "output_type": "stream",
          "name": "stderr",
          "text": [
            "91it [00:00, 2842.56it/s]             \n"
          ]
        },
        {
          "output_type": "stream",
          "name": "stdout",
          "text": [
            "Val roc auc score: 0.9711043064995141\n"
          ]
        },
        {
          "output_type": "stream",
          "name": "stderr",
          "text": [
            "421it [00:00, 430.63it/s]                         \n"
          ]
        },
        {
          "output_type": "stream",
          "name": "stdout",
          "text": [
            "Epoch 16, loss 0.1362\n"
          ]
        },
        {
          "output_type": "stream",
          "name": "stderr",
          "text": [
            "91it [00:00, 2572.95it/s]             \n"
          ]
        },
        {
          "output_type": "stream",
          "name": "stdout",
          "text": [
            "Val roc auc score: 0.9712503025576205\n"
          ]
        },
        {
          "output_type": "stream",
          "name": "stderr",
          "text": [
            "421it [00:00, 453.18it/s]                         \n"
          ]
        },
        {
          "output_type": "stream",
          "name": "stdout",
          "text": [
            "Epoch 17, loss 0.1288\n"
          ]
        },
        {
          "output_type": "stream",
          "name": "stderr",
          "text": [
            "91it [00:00, 2824.36it/s]             \n"
          ]
        },
        {
          "output_type": "stream",
          "name": "stdout",
          "text": [
            "Val roc auc score: 0.9710697284857519\n"
          ]
        },
        {
          "output_type": "stream",
          "name": "stderr",
          "text": [
            "421it [00:00, 454.02it/s]                         \n"
          ]
        },
        {
          "output_type": "stream",
          "name": "stdout",
          "text": [
            "Epoch 18, loss 0.1205\n"
          ]
        },
        {
          "output_type": "stream",
          "name": "stderr",
          "text": [
            "91it [00:00, 2912.76it/s]             \n"
          ]
        },
        {
          "output_type": "stream",
          "name": "stdout",
          "text": [
            "Val roc auc score: 0.971382851610375\n"
          ]
        },
        {
          "output_type": "stream",
          "name": "stderr",
          "text": [
            "421it [00:00, 456.37it/s]\n"
          ]
        },
        {
          "output_type": "stream",
          "name": "stdout",
          "text": [
            "Epoch 19, loss 0.1157\n"
          ]
        },
        {
          "output_type": "stream",
          "name": "stderr",
          "text": [
            "91it [00:00, 2612.54it/s]             "
          ]
        },
        {
          "output_type": "stream",
          "name": "stdout",
          "text": [
            "Val roc auc score: 0.9719418628328615\n"
          ]
        },
        {
          "output_type": "stream",
          "name": "stderr",
          "text": [
            "\n"
          ]
        }
      ],
      "source": [
        "for epoch in range(n_epochs):\n",
        "    total_loss = 0\n",
        "    acc = 0\n",
        "    # Train\n",
        "    model.train()\n",
        "    for idx in tqdm(range(0, len(X_train_embs_tensor), batch_size), total=len(X_train_embs_tensor) // batch_size):\n",
        "        end_idx = end_idx = min(idx + batch_size, len(X_train_embs_tensor))\n",
        "\n",
        "        X_batch = X_train_embs_tensor[idx:end_idx].float().to(device)\n",
        "        target = y_train_tensor[idx:end_idx].to(device)\n",
        "\n",
        "        optimizer.zero_grad()\n",
        "        pred = model(X_batch)\n",
        "        loss = loss_fn(pred.squeeze(), target.float())\n",
        "        loss.backward()\n",
        "        optimizer.step()\n",
        "\n",
        "        total_loss += loss.detach().cpu().item() * (end_idx-idx)\n",
        "        acc += torch.sum((pred > 0.5) == target).detach().cpu()\n",
        "\n",
        "    total_loss /= len(X_train_embs_tensor)\n",
        "    print(f\"Epoch {epoch}, loss {total_loss:.4f}\")\n",
        "\n",
        "    # Eval\n",
        "    pred_total = []\n",
        "    model.eval()\n",
        "    for idx in tqdm(range(0, len(X_val_embs_tensor), batch_size), total=len(X_val_embs_tensor) // batch_size):\n",
        "        end_idx = end_idx = min(idx + batch_size, len(X_val_embs_tensor))\n",
        "\n",
        "        X_batch = X_val_embs_tensor[idx:end_idx].float().to(device)\n",
        "        with torch.no_grad():\n",
        "            pred = model(X_batch)\n",
        "        pred_total += pred.squeeze().detach().cpu().tolist()\n",
        "\n",
        "    print(f\"Val roc auc score: {roc_auc_score(y_val, pred_total)}\")"
      ]
    },
    {
      "cell_type": "markdown",
      "source": [
        "### Лучше всего себя показал Catboost + BertEmbeddings. Ожидаемо BertEmbeddings везде лучше чем tfidf."
      ],
      "metadata": {
        "id": "tQb-JLtzISO7"
      },
      "id": "tQb-JLtzISO7"
    },
    {
      "cell_type": "markdown",
      "source": [
        "# Инференс на лучшей модели"
      ],
      "metadata": {
        "id": "PeejfCDnIjrx"
      },
      "id": "PeejfCDnIjrx"
    },
    {
      "cell_type": "code",
      "source": [
        "from catboost import CatBoostClassifier\n",
        "\n",
        "X_full = np.concatenate((X_train_embs, X_val_embs, X_test_embs), axis=0)\n",
        "y_full = y_train + y_val + y_test\n",
        "\n",
        "best_cls = CatBoostClassifier(**{'depth': 6, 'learning_rate': 0.1, 'l2_leaf_reg': 3}, verbose=0)\n",
        "best_cls.fit(X_full, y_full)"
      ],
      "metadata": {
        "colab": {
          "base_uri": "https://localhost:8080/"
        },
        "id": "81lcJIuCImuQ",
        "outputId": "94a08bf1-a745-4ec6-8538-2bc8fd450dd2"
      },
      "id": "81lcJIuCImuQ",
      "execution_count": 63,
      "outputs": [
        {
          "output_type": "execute_result",
          "data": {
            "text/plain": [
              "<catboost.core.CatBoostClassifier at 0x795a00eabf40>"
            ]
          },
          "metadata": {},
          "execution_count": 63
        }
      ]
    },
    {
      "cell_type": "code",
      "source": [
        "test = pd.read_csv('test_spam.csv')\n",
        "test['preprocessed'] = test['text'].apply(preprocess_text)"
      ],
      "metadata": {
        "id": "kexLwGKGI5gp"
      },
      "id": "kexLwGKGI5gp",
      "execution_count": 65,
      "outputs": []
    },
    {
      "cell_type": "code",
      "source": [
        "tokenizer = BertTokenizer.from_pretrained(\"mrm8488/bert-tiny-finetuned-sms-spam-detection\")\n",
        "model = BertModel.from_pretrained(\"mrm8488/bert-tiny-finetuned-sms-spam-detection\").to(device)\n",
        "\n",
        "test_embs = get_embeddings(list(test['preprocessed']))"
      ],
      "metadata": {
        "colab": {
          "base_uri": "https://localhost:8080/"
        },
        "id": "M9B9zJp2Jtt3",
        "outputId": "097b4c20-353e-474c-f0ac-fd3df7d04c22"
      },
      "id": "M9B9zJp2Jtt3",
      "execution_count": 72,
      "outputs": [
        {
          "output_type": "stream",
          "name": "stderr",
          "text": [
            "  0%|          | 0/63 [00:00<?, ?it/s]Truncation was not explicitly activated but `max_length` is provided a specific value, please use `truncation=True` to explicitly truncate examples to max length. Defaulting to 'longest_first' truncation strategy. If you encode pairs of sequences (GLUE-style) with the tokenizer you can select this strategy more precisely by providing a specific strategy to `truncation`.\n",
            "64it [00:15,  4.16it/s]                        \n"
          ]
        }
      ]
    },
    {
      "cell_type": "code",
      "source": [
        "test['score'] = best_cls.predict_proba(test_embs)[:, 1]"
      ],
      "metadata": {
        "id": "b46I60tYI8dj"
      },
      "id": "b46I60tYI8dj",
      "execution_count": 75,
      "outputs": []
    },
    {
      "cell_type": "code",
      "source": [
        "test = test.drop('preprocessed', axis=1)"
      ],
      "metadata": {
        "id": "_sIuRDCZJG1P"
      },
      "id": "_sIuRDCZJG1P",
      "execution_count": 85,
      "outputs": []
    },
    {
      "cell_type": "code",
      "source": [
        "test.to_csv('results.csv', index=False)"
      ],
      "metadata": {
        "id": "qM6tu8ZcSbBe"
      },
      "id": "qM6tu8ZcSbBe",
      "execution_count": 87,
      "outputs": []
    },
    {
      "cell_type": "code",
      "source": [],
      "metadata": {
        "id": "tuo9YeuWS0EA"
      },
      "id": "tuo9YeuWS0EA",
      "execution_count": null,
      "outputs": []
    }
  ],
  "metadata": {
    "kernelspec": {
      "display_name": "Python 3",
      "name": "python3"
    },
    "language_info": {
      "codemirror_mode": {
        "name": "ipython",
        "version": 3
      },
      "file_extension": ".py",
      "mimetype": "text/x-python",
      "name": "python",
      "nbconvert_exporter": "python",
      "pygments_lexer": "ipython3",
      "version": "3.9.12"
    },
    "colab": {
      "provenance": [],
      "gpuType": "T4"
    },
    "accelerator": "GPU",
    "widgets": {
      "application/vnd.jupyter.widget-state+json": {
        "b3e565ff3f2346ba87a556b33b9253ba": {
          "model_module": "catboost-widget",
          "model_name": "CatboostWidgetModel",
          "model_module_version": "^1.0.0",
          "state": {
            "_dom_classes": [],
            "_model_module": "catboost-widget",
            "_model_module_version": "^1.0.0",
            "_model_name": "CatboostWidgetModel",
            "_view_count": null,
            "_view_module": "catboost-widget",
            "_view_module_version": "^1.0.0",
            "_view_name": "CatboostWidgetView",
            "data": {
              "catboost_info": {
                "path": "catboost_info",
                "name": "catboost_info",
                "content": {
                  "passed_iterations": 11,
                  "total_iterations": 12,
                  "data": {
                    "iterations": [
                      {
                        "parameters": [
                          {
                            "depth": 4,
                            "learning_rate": 0.03,
                            "l2_leaf_reg": 3
                          }
                        ],
                        "learn": [
                          0.2758820233
                        ],
                        "iteration": 0,
                        "passed_time": 38.24191543,
                        "remaining_time": 420.6610697,
                        "test": [
                          0.3353119675
                        ]
                      },
                      {
                        "parameters": [
                          {
                            "depth": 4,
                            "learning_rate": 0.1,
                            "l2_leaf_reg": 3
                          }
                        ],
                        "learn": [
                          0.1963231825
                        ],
                        "iteration": 1,
                        "passed_time": 64.92453961,
                        "remaining_time": 324.622698,
                        "test": [
                          0.3179199981
                        ]
                      },
                      {
                        "parameters": [
                          {
                            "depth": 4,
                            "learning_rate": 0.03,
                            "l2_leaf_reg": 5
                          }
                        ],
                        "learn": [
                          0.2825222004
                        ],
                        "iteration": 2,
                        "passed_time": 85.02815192,
                        "remaining_time": 255.0844558,
                        "test": [
                          0.3381929955
                        ]
                      },
                      {
                        "parameters": [
                          {
                            "depth": 4,
                            "learning_rate": 0.1,
                            "l2_leaf_reg": 5
                          }
                        ],
                        "learn": [
                          0.2083934726
                        ],
                        "iteration": 3,
                        "passed_time": 105.2145077,
                        "remaining_time": 210.4290155,
                        "test": [
                          0.317435124
                        ]
                      },
                      {
                        "parameters": [
                          {
                            "depth": 4,
                            "learning_rate": 0.03,
                            "l2_leaf_reg": 7
                          }
                        ],
                        "learn": [
                          0.2867607467
                        ],
                        "iteration": 4,
                        "passed_time": 124.911853,
                        "remaining_time": 174.8765942,
                        "test": [
                          0.3399413524
                        ]
                      },
                      {
                        "parameters": [
                          {
                            "depth": 4,
                            "learning_rate": 0.1,
                            "l2_leaf_reg": 7
                          }
                        ],
                        "learn": [
                          0.2163193449
                        ],
                        "iteration": 5,
                        "passed_time": 144.8389416,
                        "remaining_time": 144.8389416,
                        "test": [
                          0.3184462368
                        ]
                      },
                      {
                        "parameters": [
                          {
                            "depth": 6,
                            "learning_rate": 0.03,
                            "l2_leaf_reg": 3
                          }
                        ],
                        "learn": [
                          0.2442824991
                        ],
                        "iteration": 6,
                        "passed_time": 193.7030099,
                        "remaining_time": 138.3592928,
                        "test": [
                          0.3269484634
                        ]
                      },
                      {
                        "parameters": [
                          {
                            "depth": 6,
                            "learning_rate": 0.1,
                            "l2_leaf_reg": 3
                          }
                        ],
                        "learn": [
                          0.1697895388
                        ],
                        "iteration": 7,
                        "passed_time": 242.4733693,
                        "remaining_time": 121.2366846,
                        "test": [
                          0.3176138158
                        ]
                      },
                      {
                        "parameters": [
                          {
                            "depth": 6,
                            "learning_rate": 0.03,
                            "l2_leaf_reg": 5
                          }
                        ],
                        "learn": [
                          0.2534157476
                        ],
                        "iteration": 8,
                        "passed_time": 291.9220393,
                        "remaining_time": 97.30734643,
                        "test": [
                          0.3282866757
                        ]
                      },
                      {
                        "parameters": [
                          {
                            "depth": 6,
                            "learning_rate": 0.1,
                            "l2_leaf_reg": 5
                          }
                        ],
                        "learn": [
                          0.1810016037
                        ],
                        "iteration": 9,
                        "passed_time": 341.8424287,
                        "remaining_time": 68.36848574,
                        "test": [
                          0.31554691
                        ]
                      },
                      {
                        "parameters": [
                          {
                            "depth": 6,
                            "learning_rate": 0.03,
                            "l2_leaf_reg": 7
                          }
                        ],
                        "learn": [
                          0.2604376837
                        ],
                        "iteration": 10,
                        "passed_time": 405.4402013,
                        "remaining_time": 36.85820012,
                        "test": [
                          0.3293270305
                        ]
                      },
                      {
                        "parameters": [
                          {
                            "depth": 6,
                            "learning_rate": 0.1,
                            "l2_leaf_reg": 7
                          }
                        ],
                        "learn": [
                          0.1897753981
                        ],
                        "iteration": 11,
                        "passed_time": 453.3099634,
                        "remaining_time": 0,
                        "test": [
                          0.315218598
                        ]
                      }
                    ],
                    "meta": {
                      "test_sets": [
                        "test"
                      ],
                      "test_metrics": [
                        {
                          "best_value": "Min",
                          "name": "Logloss"
                        }
                      ],
                      "learn_metrics": [
                        {
                          "best_value": "Min",
                          "name": "Logloss"
                        }
                      ],
                      "launch_mode": "Train",
                      "parameters": "parameters",
                      "iteration_count": 12,
                      "learn_sets": [
                        "learn"
                      ],
                      "name": "experiment"
                    }
                  }
                }
              }
            },
            "layout": "IPY_MODEL_c82de8fc97e8450eb90f56b6602de10b"
          }
        },
        "795cf1aeca02499d81160c8960dc76d0": {
          "model_module": "catboost-widget",
          "model_name": "CatboostWidgetModel",
          "model_module_version": "^1.0.0",
          "state": {
            "_dom_classes": [],
            "_model_module": "catboost-widget",
            "_model_module_version": "^1.0.0",
            "_model_name": "CatboostWidgetModel",
            "_view_count": null,
            "_view_module": "catboost-widget",
            "_view_module_version": "^1.0.0",
            "_view_name": "CatboostWidgetView",
            "data": {
              "catboost_info": {
                "path": "catboost_info",
                "name": "catboost_info",
                "content": {
                  "passed_iterations": 11,
                  "total_iterations": 12,
                  "data": {
                    "iterations": [
                      {
                        "parameters": [
                          {
                            "depth": 4,
                            "learning_rate": 0.03,
                            "l2_leaf_reg": 3
                          }
                        ],
                        "learn": [
                          0.1334438686
                        ],
                        "iteration": 0,
                        "passed_time": 20.51323924,
                        "remaining_time": 225.6456317,
                        "test": [
                          0.2492868777
                        ]
                      },
                      {
                        "parameters": [
                          {
                            "depth": 4,
                            "learning_rate": 0.1,
                            "l2_leaf_reg": 3
                          }
                        ],
                        "learn": [
                          0.03058286661
                        ],
                        "iteration": 1,
                        "passed_time": 35.45831891,
                        "remaining_time": 177.2915945,
                        "test": [
                          0.23726177
                        ]
                      },
                      {
                        "parameters": [
                          {
                            "depth": 4,
                            "learning_rate": 0.03,
                            "l2_leaf_reg": 5
                          }
                        ],
                        "learn": [
                          0.1371118201
                        ],
                        "iteration": 2,
                        "passed_time": 52.06342352,
                        "remaining_time": 156.1902706,
                        "test": [
                          0.255036699
                        ]
                      },
                      {
                        "parameters": [
                          {
                            "depth": 4,
                            "learning_rate": 0.1,
                            "l2_leaf_reg": 5
                          }
                        ],
                        "learn": [
                          0.03378487217
                        ],
                        "iteration": 3,
                        "passed_time": 67.65228517,
                        "remaining_time": 135.3045703,
                        "test": [
                          0.2348937709
                        ]
                      },
                      {
                        "parameters": [
                          {
                            "depth": 4,
                            "learning_rate": 0.03,
                            "l2_leaf_reg": 7
                          }
                        ],
                        "learn": [
                          0.1406112251
                        ],
                        "iteration": 4,
                        "passed_time": 83.4871442,
                        "remaining_time": 116.8820019,
                        "test": [
                          0.2555896889
                        ]
                      },
                      {
                        "parameters": [
                          {
                            "depth": 4,
                            "learning_rate": 0.1,
                            "l2_leaf_reg": 7
                          }
                        ],
                        "learn": [
                          0.03695252211
                        ],
                        "iteration": 5,
                        "passed_time": 101.4564446,
                        "remaining_time": 101.4564446,
                        "test": [
                          0.2336455071
                        ]
                      },
                      {
                        "parameters": [
                          {
                            "depth": 6,
                            "learning_rate": 0.03,
                            "l2_leaf_reg": 3
                          }
                        ],
                        "learn": [
                          0.06673025895
                        ],
                        "iteration": 6,
                        "passed_time": 139.0338964,
                        "remaining_time": 99.30992602,
                        "test": [
                          0.2329761411
                        ]
                      },
                      {
                        "parameters": [
                          {
                            "depth": 6,
                            "learning_rate": 0.1,
                            "l2_leaf_reg": 3
                          }
                        ],
                        "learn": [
                          0.008580596877
                        ],
                        "iteration": 7,
                        "passed_time": 175.8574849,
                        "remaining_time": 87.92874244,
                        "test": [
                          0.2341894059
                        ]
                      },
                      {
                        "parameters": [
                          {
                            "depth": 6,
                            "learning_rate": 0.03,
                            "l2_leaf_reg": 5
                          }
                        ],
                        "learn": [
                          0.07297162164
                        ],
                        "iteration": 8,
                        "passed_time": 212.6339752,
                        "remaining_time": 70.87799173,
                        "test": [
                          0.2342060652
                        ]
                      },
                      {
                        "parameters": [
                          {
                            "depth": 6,
                            "learning_rate": 0.1,
                            "l2_leaf_reg": 5
                          }
                        ],
                        "learn": [
                          0.01159395457
                        ],
                        "iteration": 9,
                        "passed_time": 249.4624766,
                        "remaining_time": 49.89249532,
                        "test": [
                          0.231734761
                        ]
                      },
                      {
                        "parameters": [
                          {
                            "depth": 6,
                            "learning_rate": 0.03,
                            "l2_leaf_reg": 7
                          }
                        ],
                        "learn": [
                          0.07891255883
                        ],
                        "iteration": 10,
                        "passed_time": 285.0866752,
                        "remaining_time": 25.91697048,
                        "test": [
                          0.2381642897
                        ]
                      },
                      {
                        "parameters": [
                          {
                            "depth": 6,
                            "learning_rate": 0.1,
                            "l2_leaf_reg": 7
                          }
                        ],
                        "learn": [
                          0.01401510326
                        ],
                        "iteration": 11,
                        "passed_time": 321.775276,
                        "remaining_time": 0,
                        "test": [
                          0.2288031826
                        ]
                      }
                    ],
                    "meta": {
                      "test_sets": [
                        "test"
                      ],
                      "test_metrics": [
                        {
                          "best_value": "Min",
                          "name": "Logloss"
                        }
                      ],
                      "learn_metrics": [
                        {
                          "best_value": "Min",
                          "name": "Logloss"
                        }
                      ],
                      "launch_mode": "Train",
                      "parameters": "parameters",
                      "iteration_count": 12,
                      "learn_sets": [
                        "learn"
                      ],
                      "name": "experiment"
                    }
                  }
                }
              }
            },
            "layout": "IPY_MODEL_8db2915010274775b8ff708a58096636"
          }
        }
      }
    }
  },
  "nbformat": 4,
  "nbformat_minor": 5
}